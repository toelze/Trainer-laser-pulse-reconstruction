{
 "cells": [
  {
   "cell_type": "code",
   "execution_count": 1,
   "metadata": {},
   "outputs": [
    {
     "output_type": "stream",
     "name": "stdout",
     "text": [
      "Num GPUs Available:  1\n2.3.1\n"
     ]
    }
   ],
   "source": [
    "import numpy as np\n",
    "from numpy.random import randint,rand\n",
    "\n",
    "import pandas as pd\n",
    "import os\n",
    "import scipy as sp\n",
    "from scipy.interpolate import interp1d\n",
    "import matplotlib.pyplot as plt\n",
    "from numba import vectorize, float64, boolean, njit\n",
    "\n",
    "\n",
    "import tensorflow as tf\n",
    "# try:\n",
    "#     # Disable all GPUS\n",
    "#     tf.config.set_visible_devices([], 'GPU')\n",
    "#     visible_devices = tf.config.get_visible_devices()\n",
    "#     for device in visible_devices:\n",
    "#         assert device.device_type != 'GPU'\n",
    "# except:\n",
    "#     # Invalid device or cannot modify virtual devices once initialized.\n",
    "#     pass\n",
    "\n",
    "\n",
    "# tf.config.experimental.set_lms_enabled(True)\n",
    "from tensorflow.keras.utils import Sequence\n",
    "from tensorflow_addons.layers import WeightNormalization\n",
    "from tensorflow.keras.regularizers import l1_l2\n",
    "# gpu_options = tf.GPUOptions(per_process_gpu_memory_fraction=0.9)\n",
    "\n",
    "# sess = tf.Session(config=tf.ConfigProto(gpu_options=gpu_options))\n",
    "\n",
    "\n",
    "\n",
    "\n",
    "import cupy as cp\n",
    "mempool = cp.get_default_memory_pool()\n",
    "# with cp.cuda.Device(0):\n",
    "#     mempool.set_limit(size=800*1024**2)\n",
    "# print(cp.get_default_memory_pool().get_limit())  # 1073741824\n",
    "\n",
    "    \n",
    "# from scipy.signal import find_peaks,peak_widths\n",
    "# from scipy.ndimage import gaussian_filter\n",
    "\n",
    "from streaking_cal.statistics import weighted_avg_and_std  \n",
    "from streaking_cal.misc import interp\n",
    "\n",
    "\n",
    "def ws_reg(kernel):\n",
    "    if kernel.shape[0]> 0:\n",
    "        kernel_mean = tf.math.reduce_mean(kernel, axis=[0, 1, 2], keepdims=True, name='kernel_mean')\n",
    "        kernel = kernel - kernel_mean\n",
    "        kernel_std = tf.math.reduce_std(kernel, axis=[0, 1, 2], keepdims=True, name='kernel_std')\n",
    "        #     kernel_std = tf.keras.backend.std(kernel, axis=[0, 1, 2], keepdims=True)\n",
    "        kernel = kernel / (kernel_std + 1e-5)\n",
    "    else: \n",
    "        kernel = l1_l2(l1=1e-5, l2=1e-4)(kernel)\n",
    "    return kernel\n",
    "import datetime\n",
    "\n",
    "\n",
    "# \n",
    "def weighted_avg_and_std(values, weights):\n",
    "    import math\n",
    "    \"\"\"\n",
    "    Return the weighted average and standard deviation.\n",
    "\n",
    "    values, weights -- Numpy ndarrays with the same shape.\n",
    "    \"\"\"\n",
    "    average = np.average(values, weights=weights)\n",
    "    # Fast and numerically precise:\n",
    "    variance = np.average((values-average)**2, weights=weights)\n",
    "    return (average, math.sqrt(variance))\n",
    "\n",
    "\n",
    "# load noise peak for discretization of spectra\n",
    "dfe=pd.read_csv(\"./resources/energies.csv\",header=None)\n",
    "orig_tof_ens =dfe[0].values\n",
    "\n",
    "\n",
    "# df0=pd.read_csv(\"./FLASH-Spectra/0.0119464/\"+\"spec10.csv\",header=None)\n",
    "noisepeak=np.fromfile('./resources/noisepeak.dat',dtype =\"float64\")\n",
    "# noisepeak=(df0[1].values/sum(df0[1]))[orig_tof_ens<61]\n",
    "noisepeak_gpu=cp.asarray(noisepeak)\n",
    "\n",
    "peak_max_y=orig_tof_ens[len(noisepeak)]-orig_tof_ens[0]\n",
    "tof_ens=np.linspace(40,110,1401)\n",
    "tof_ens_gpu=cp.asarray(tof_ens)\n",
    "\n",
    "\n",
    "# progressbar for for loops\n",
    "from progressbar import ProgressBar\n",
    "\n",
    "\n",
    "CentralEnergy=73\n",
    "h=4.135667662 #in eV*fs\n",
    "\n",
    "dt = np.dtype([('up', np.float32),('down', np.float32)])\n",
    "\n",
    "# import precomputed components of phi_el\n",
    "# p*A_THz und A_THz^2 have been sampled at 2 zerocrossings ('up' and 'down') of A with p0 of 1 and E0 of 1\n",
    "# to calculate these contributions for arbitrary values, the base values are multiplied by E0 / E0^2 and p0 / 1\n",
    "p_times_A_vals=np.fromfile('./resources/m_paval.dat',dtype =dt)\n",
    "p_times_A_vals_up=1/h*cp.asarray(p_times_A_vals['up'])\n",
    "p_times_A_vals_down=1/h*cp.asarray(p_times_A_vals['down'])\n",
    "del(p_times_A_vals)\n",
    "\n",
    "A_square_vals=np.fromfile('./resources/m_aquadval.dat',dtype =dt)\n",
    "A_square_vals_up=1/h*cp.asarray(A_square_vals['up'])\n",
    "A_square_vals_down=1/h*cp.asarray(A_square_vals['down'])\n",
    "del(A_square_vals)\n",
    "\n",
    "\n",
    "fs_in_au=lambda t: 41.3414*t; # from fs to a.u.\n",
    "eV_in_au= lambda e: 0.271106*np.sqrt(e) # from eV to a.u.\n",
    "p0=eV_in_au(CentralEnergy)\n",
    "\n",
    "# Pulse class returns temporal profile on basis of this time axis\n",
    "standard_full_time=np.loadtxt('./resources/standard_time.txt')\n",
    "standard_full_time= np.linspace(-250,250,512)\n",
    "\n",
    "# background noise for data augmentation is read from actual measured spectra\n",
    "measurednoise_train=np.loadtxt(\"./resources/measurednoise_train.txt\")\n",
    "measurednoise_val=np.loadtxt(\"./resources/measurednoise_val.txt\")\n",
    "\n",
    "print(\"Num GPUs Available: \", len(tf.config.experimental.list_physical_devices('GPU')))\n",
    "print(tf.version.VERSION)"
   ]
  },
  {
   "cell_type": "code",
   "execution_count": 15,
   "metadata": {},
   "outputs": [],
   "source": []
  },
  {
   "cell_type": "code",
   "execution_count": 2,
   "metadata": {},
   "outputs": [],
   "source": [
    "class Raw_data():\n",
    "    from numpy import asarray, linspace, arange\n",
    "    TOF_params = asarray([-755.693, 187.222, -39.8]) # parameters from TOF calibration\n",
    "    TOF_response=np.fromfile(\"./resources/TOF_response.dat\",dtype=\"float64\")\n",
    "    TOF_response=TOF_response/np.sum(TOF_response)\n",
    "    \n",
    "    TOF_times = linspace(0,506+2/3,1825) #TOF times raw data\n",
    "        \n",
    "    VLS_pixels= arange(1024) # pixels of spectrometer\n",
    "    \n",
    "    def __init__(self,spectra,energies,temp_profile,num_electrons1=25, num_electrons2=25):\n",
    "        self.num_electrons1 = num_electrons1\n",
    "        self.num_electrons2 = num_electrons2\n",
    "        self.energy_axis=energies\n",
    "        self.TOF_times=self.energies_to_TOF_times(energies)\n",
    "        self.temp_profile =temp_profile\n",
    "        self.spectra=spectra\n",
    "        \n",
    "        self.calc_vls_spectrum()        \n",
    "\n",
    "\n",
    "    def calc_tof_traces(self):\n",
    "        from numpy import argsort, take_along_axis, asarray\n",
    "        \n",
    "        self.TOF_times_sort_order=argsort(self.TOF_times, axis=0)\n",
    "        self.sorted_TOF_times=take_along_axis(self.TOF_times, self.TOF_times_sort_order, axis=0)\n",
    "       \n",
    "        TOF_traces= asarray(list(map(self.TOF_signal_correction,self.spectra[1:])))\n",
    "        TOF_traces= asarray(list(map(self.resampled_TOF_signal,TOF_traces)))\n",
    "        TOF_traces[0]= self.discretized_spectrum(TOF_traces[0],self.num_electrons1)\n",
    "        TOF_traces[0]= TOF_traces[0]/np.sum(TOF_traces[0])\n",
    "        \n",
    "        TOF_traces[1]= self.discretized_spectrum(TOF_traces[1],self.num_electrons2)\n",
    "        TOF_traces[1]= TOF_traces[1]/np.sum(TOF_traces[1])\n",
    "\n",
    "        \n",
    "\n",
    "#         self.TOF_times = Raw_data.TOF_times\n",
    "        \n",
    "        return TOF_traces\n",
    "\n",
    "        \n",
    "    def calc_vls_spectrum(self):\n",
    "        from numpy import argsort, take_along_axis\n",
    "        \n",
    "        \n",
    "        self.VLS_signal= self.spectra[0]\n",
    "        \n",
    "        self.VLS_pixels=self.energies_to_VLS_pixel(self.energy_axis)        \n",
    "        self.VLS_pixels_sort_order=argsort(self.VLS_pixels, axis=0)\n",
    "        self.sorted_VLS_pixels=take_along_axis(self.VLS_pixels, self.VLS_pixels_sort_order, axis=0)\n",
    "        \n",
    "        self.VLS_signal= self.resampled_VLS_signal(self.VLS_signal)        \n",
    "        self.VLS_signal=self.VLS_signal/np.sum(self.VLS_signal)\n",
    "                \n",
    "        self.VLS_pixels = Raw_data.VLS_pixels\n",
    "    \n",
    "\n",
    "        \n",
    "    \n",
    "    \n",
    "    def get_raw_matrix(self):\n",
    "        from numpy import roll, pad\n",
    "        from numpy import sum as npsum\n",
    "        \n",
    "        TOF_traces=self.calc_tof_traces()\n",
    "\n",
    "        \n",
    "        vls_new=pad(self.VLS_signal,\n",
    "            pad_width=(0,len(TOF_traces[0])-len(self.VLS_signal)))\n",
    "        tof_new0= roll(TOF_traces[0],50)\n",
    "        tof_new1= roll(TOF_traces[1],50)\n",
    "        tof_new0=np.convolve(tof_new0,Raw_data.TOF_response,mode=\"same\")\n",
    "        tof_new0=tof_new0/np.sum(tof_new0)\n",
    "        tof_new1=np.convolve(tof_new1,Raw_data.TOF_response,mode=\"same\")\n",
    "        tof_new1=tof_new1/np.sum(tof_new1)\n",
    "\n",
    "\n",
    "        return np.asarray([vls_new,tof_new0,tof_new1])\n",
    "\n",
    "    \n",
    "    def get_all_tof(self):\n",
    "        tof_matrix=self.get_raw_matrix()\n",
    "        VLS= self.VLS_signal_to_energies()\n",
    "        VLS= self.TOF_signal_correction(VLS)\n",
    "        VLS= self.resampled_TOF_signal(VLS)\n",
    "        \n",
    "        \n",
    "        tof_matrix[0]=VLS\n",
    "        \n",
    "        \n",
    "        return tof_matrix\n",
    "        \n",
    "\n",
    "    \n",
    "    def energies_to_TOF_times(self,energies_eV): # in ns\n",
    "        from numpy import sqrt\n",
    "        TOF_times = self.TOF_params[0]**2/sqrt((self.TOF_params[0]**2)*(energies_eV + self.TOF_params[2])) # funtioniert\n",
    "        return TOF_times#-min(TOF_times)\n",
    "    \n",
    "        \n",
    "    def VLS_pixel_to_energies(self,vls_pixel):\n",
    "        return -21.5 + 1239.84/(11.41 + 0.0032*vls_pixel)\n",
    "    \n",
    "    def energies_to_VLS_pixel(self,energies_eV):\n",
    "        return -3565.63 + 387450/(21.5 + energies_eV) # calibration and 21.5 eV ionization    \n",
    "    \n",
    "    def VLS_signal_to_energies(self):\n",
    "        VLS_energies=self.VLS_pixel_to_energies(self.VLS_pixels)\n",
    "        sort_order=np.argsort(VLS_energies, axis=0)\n",
    "        VLS_energies=np.take_along_axis(VLS_energies, sort_order, axis=0)\n",
    "        VLS_ordered=np.take_along_axis(self.VLS_signal, sort_order, axis=0)\n",
    "        VLS_resampled=np.roll(np.interp(self.energy_axis,VLS_energies,VLS_ordered,left=0,right=0),-50)\n",
    "\n",
    "        return VLS_resampled\n",
    "    \n",
    "    def TOF_signal_correction(self,signal): # when calulating TOF_traces from energy spectra\n",
    "        adjusted_signal=-4*(signal*(self.energy_axis + self.TOF_params[2])**1.5)/self.TOF_params[0]\n",
    "        return adjusted_signal\n",
    "    \n",
    "    def resampled_VLS_signal(self,VLS_signal):\n",
    "        from numpy import take_along_axis,interp\n",
    "        \n",
    "        sorted_VLS_signal= take_along_axis(VLS_signal, self.VLS_pixels_sort_order, axis=0)\n",
    "        resampled_VLS_signal = interp(Raw_data.VLS_pixels,self.sorted_VLS_pixels,sorted_VLS_signal)\n",
    "\n",
    "        return resampled_VLS_signal\n",
    "\n",
    "    def resampled_TOF_signal(self,TOF_signal):\n",
    "        from numpy import take_along_axis, interp\n",
    "        \n",
    "        sorted_TOF_signal= take_along_axis(TOF_signal, self.TOF_times_sort_order, axis=0)\n",
    "        resampled_TOF_signal = interp(Raw_data.TOF_times,self.sorted_TOF_times,sorted_TOF_signal)\n",
    "        \n",
    "        return resampled_TOF_signal\n",
    "    \n",
    "    def discretized_spectrum(self,spectrum,num_points):\n",
    "        from numpy import interp, zeros\n",
    "#         disc_spec=np.zeros(len(spectrum))\n",
    "        positions=self.discrete_positions(spectrum,num_points)\n",
    "        \n",
    "        \n",
    "#         for i in positions:\n",
    "#             valll=np.random.rand()+1\n",
    "#             (divval,modval)=divmod(i, 1)\n",
    "#             divval=divval.astype(\"int\")\n",
    "#             disc_spec[divval]+=valll*(1-modval)\n",
    "#             disc_spec[divval+1]+=valll*(modval)\n",
    "    \n",
    "        disc_spec= self.added_spikes(positions,len(spectrum))\n",
    "\n",
    "        return disc_spec\n",
    "    \n",
    "    \n",
    "    @staticmethod\n",
    "    @njit(fastmath=True)\n",
    "    def added_spikes(positions,arr_length):\n",
    "        '''simple linear interpolation and summation'''\n",
    "        disc_spec=np.zeros(arr_length)\n",
    "        for i in positions:\n",
    "            valll=np.random.rand()+1\n",
    "            (divval,modval)=np.divmod(i, 1)\n",
    "            divval=np.int(divval)\n",
    "            disc_spec[divval]+=valll*(1-modval)\n",
    "            disc_spec[divval+1]+=valll*(modval)\n",
    "            \n",
    "        return disc_spec\n",
    "    \n",
    "    \n",
    "    @staticmethod\n",
    "    @njit(fastmath=True)\n",
    "    def discrete_positions(spectrum,num_points):\n",
    "        cumulative_spectrum=(np.cumsum(spectrum))/np.sum(spectrum)\n",
    "        indices=np.arange(len(spectrum))\n",
    "        discrete_positions=np.interp(np.random.rand(num_points),cumulative_spectrum,indices)\n",
    "        \n",
    "        return discrete_positions\n",
    "\n",
    "    def get_temp(self):\n",
    "        return self.temp_profile"
   ]
  },
  {
   "cell_type": "code",
   "execution_count": 275,
   "metadata": {},
   "outputs": [
    {
     "data": {
      "text/plain": [
       "array([2.05087723e-37, 2.85661304e-37, 3.94942892e-37, ...,\n",
       "       0.00000000e+00, 0.00000000e+00, 0.00000000e+00])"
      ]
     },
     "execution_count": 275,
     "metadata": {},
     "output_type": "execute_result"
    }
   ],
   "source": [
    "np.asarray(b1.TOF_signal_correction(np.pad(b1.VLS_signal,\n",
    "                                           pad_width=(0,len(b1.TOF_times)-len(b1.VLS_signal)))))\n"
   ]
  },
  {
   "cell_type": "code",
   "execution_count": 14,
   "metadata": {},
   "outputs": [
    {
     "name": "stdout",
     "output_type": "stream",
     "text": [
      "1825\n",
      "1825\n"
     ]
    },
    {
     "data": {
      "text/plain": [
       "array([[2.75235253e-35, 1.98276623e-35, 2.49867618e-35, ...,\n",
       "        0.00000000e+00, 0.00000000e+00, 0.00000000e+00],\n",
       "       [0.00000000e+00, 0.00000000e+00, 0.00000000e+00, ...,\n",
       "        0.00000000e+00, 0.00000000e+00, 0.00000000e+00],\n",
       "       [0.00000000e+00, 0.00000000e+00, 0.00000000e+00, ...,\n",
       "        0.00000000e+00, 0.00000000e+00, 0.00000000e+00]])"
      ]
     },
     "execution_count": 14,
     "metadata": {},
     "output_type": "execute_result"
    }
   ],
   "source": [
    "# %%timeit\n",
    "x1 = Pulse.from_GS(dT = np.random.uniform(10/2.355,120/2.355)\n",
    "              , dE = np.random.uniform(0.2/2.355,1.8/2.355)\n",
    "              , num_electrons1=np.random.randint(20,31)\n",
    "              , num_electrons2=np.random.randint(20,31)\n",
    "             )\n",
    "(xuv,str1,str2)=x1.get_augmented_spectra(95,discretized=False)\n",
    "b1=Raw_data(np.asarray((xuv,str1,str2)),tof_ens,x1.get_temp(),num_electrons1=25,num_electrons2=25)\n",
    "b1.get_raw_matrix()"
   ]
  },
  {
   "cell_type": "code",
   "execution_count": 60,
   "metadata": {},
   "outputs": [],
   "source": [
    "# %%timeit\n",
    "x1 = Pulse.from_GS(dT = np.random.uniform(10/2.355,120/2.355)\n",
    "              , dE = np.random.uniform(0.2/2.355,1.8/2.355)\n",
    "              , num_electrons1=np.random.randint(20,31)\n",
    "              , num_electrons2=np.random.randint(20,31)\n",
    "             )\n",
    "(xuv,str1,str2)=x1.get_spectra(95,discretized=False)\n"
   ]
  },
  {
   "cell_type": "code",
   "execution_count": 377,
   "metadata": {},
   "outputs": [],
   "source": [
    "# %%timeit\n",
    "(xuv,str1,str2)=x1.get_augmented_spectra(95,discretized=False)\n",
    "b1=Raw_data(np.asarray((xuv,str1,str2)),tof_ens,x1.get_temp(),num_electrons1=25,num_electrons2=25)\n",
    "b1.get_raw_matrix()\n",
    "b1.get_temp();"
   ]
  },
  {
   "cell_type": "code",
   "execution_count": 335,
   "metadata": {},
   "outputs": [
    {
     "data": {
      "text/plain": [
       "1825"
      ]
     },
     "execution_count": 335,
     "metadata": {},
     "output_type": "execute_result"
    }
   ],
   "source": [
    "len(b1.get_all_tof())"
   ]
  },
  {
   "cell_type": "code",
   "execution_count": 304,
   "metadata": {},
   "outputs": [
    {
     "data": {
      "text/plain": [
       "array([3.24427256e-34, 3.83475040e-34, 4.94639264e-34, ...,\n",
       "       4.79900968e-33, 4.74429273e-33, 4.66431069e-33])"
      ]
     },
     "execution_count": 304,
     "metadata": {},
     "output_type": "execute_result"
    }
   ],
   "source": [
    "b1.VLS_signal"
   ]
  },
  {
   "cell_type": "code",
   "execution_count": 307,
   "metadata": {},
   "outputs": [
    {
     "data": {
      "text/plain": [
       "array([109.80642154, 109.84175568, 109.87710412, ..., 156.98062094,\n",
       "       157.0430247 , 157.10547569])"
      ]
     },
     "execution_count": 307,
     "metadata": {},
     "output_type": "execute_result"
    }
   ],
   "source": [
    "b1.energies_to_TOF_times(b1.VLS_pixel_to_energies(b1.VLS_pixels))"
   ]
  },
  {
   "cell_type": "code",
   "execution_count": 313,
   "metadata": {},
   "outputs": [
    {
     "data": {
      "text/plain": [
       "array([87.16257669, 87.13211019, 87.10166077, ..., 62.97387785,\n",
       "       62.95546443, 62.93705903])"
      ]
     },
     "execution_count": 313,
     "metadata": {},
     "output_type": "execute_result"
    }
   ],
   "source": [
    "b1.VLS_pixel_to_energies(b1.VLS_pixels)"
   ]
  },
  {
   "cell_type": "code",
   "execution_count": 309,
   "metadata": {},
   "outputs": [
    {
     "data": {
      "text/plain": [
       "array([1689.78091812, 1511.386     , 1379.70034216, ...,   90.25814225,\n",
       "         90.2259704 ,   90.19383292])"
      ]
     },
     "execution_count": 309,
     "metadata": {},
     "output_type": "execute_result"
    }
   ],
   "source": [
    "b1.TOF_times"
   ]
  },
  {
   "cell_type": "code",
   "execution_count": 312,
   "metadata": {},
   "outputs": [
    {
     "data": {
      "text/plain": [
       "[<matplotlib.lines.Line2D at 0x242729afbb0>]"
      ]
     },
     "execution_count": 312,
     "metadata": {},
     "output_type": "execute_result"
    },
    {
     "data": {
      "image/png": "[encoded data removed]",
      "text/plain": [
       "<Figure size 432x288 with 1 Axes>"
      ]
     },
     "metadata": {
      "needs_background": "light"
     },
     "output_type": "display_data"
    }
   ],
   "source": [
    "plt.plot(b1.calc_tof_traces()[1])\n"
   ]
  },
  {
   "cell_type": "code",
   "execution_count": 397,
   "metadata": {},
   "outputs": [
    {
     "data": {
      "text/plain": [
       "(100.0, 200.0)"
      ]
     },
     "execution_count": 397,
     "metadata": {},
     "output_type": "execute_result"
    },
    {
     "data": {
      "image/png": "[encoded data removed]",
      "text/plain": [
       "<Figure size 432x288 with 1 Axes>"
      ]
     },
     "metadata": {
      "needs_background": "light"
     },
     "output_type": "display_data"
    }
   ],
   "source": [
    "plt.plot(Raw_data.TOF_times,b1.get_all_tof()[0],Raw_data.TOF_times,b1.get_all_tof()[1],Raw_data.TOF_times,b1.get_all_tof()[2])\n",
    "plt.xlim([100,200])\n",
    "# plt.plot(1/1000*b1.get_raw_matrix()[1])"
   ]
  },
  {
   "cell_type": "code",
   "execution_count": 3,
   "metadata": {},
   "outputs": [],
   "source": [
    "dt2 = np.dtype([('xuv', np.float64),('up', np.float64),('down', np.float64)])\n",
    "measured_spectra=[]\n",
    "for i in range(1,110):\n",
    "    lll=np.fromfile('./resources/files_mathematica/'+str(i)+'.dat',dtype =dt2)\n",
    "    xuv0=np.interp(tof_ens,orig_tof_ens,lll['xuv'],left=0,right=0)\n",
    "    xuv0=xuv0/sum(xuv0)\n",
    "    up0=np.interp(tof_ens,orig_tof_ens,lll['up'],left=0,right=0)\n",
    "    up0=up0/sum(up0)\n",
    "    down0=np.interp(tof_ens,orig_tof_ens,lll['down'],left=0,right=0)\n",
    "    down0=down0/sum(down0)\n",
    "    measured_spectra.append(np.array([xuv0,up0,down0]))\n",
    "measured_spectra=np.asarray(measured_spectra)"
   ]
  },
  {
   "cell_type": "code",
   "execution_count": 4,
   "metadata": {},
   "outputs": [],
   "source": [
    "from scipy.signal import gaussian\n",
    "TOF_instrument_function=np.fromfile('./resources/files_mathematica/instrument_function.dat',dtype=np.float64)\n",
    "gauss_spike=gaussian(11,0.05)[:10]"
   ]
  },
  {
   "cell_type": "code",
   "execution_count": 5,
   "metadata": {},
   "outputs": [],
   "source": [
    "TOF_instrument_function-=TOF_instrument_function[0]\n",
    "for num,i in enumerate(TOF_instrument_function):\n",
    "    if i <0:\n",
    "        TOF_instrument_function[num]=0\n",
    "TOF_instrument_function=TOF_instrument_function[TOF_instrument_function>0]"
   ]
  },
  {
   "cell_type": "code",
   "execution_count": 6,
   "metadata": {},
   "outputs": [],
   "source": [
    "class Pulse(object):\n",
    "\n",
    "\n",
    "    fs_in_au=lambda t: 41.3414*t; # from fs to a.u.\n",
    "    eV_in_au= lambda e: 0.271106*np.sqrt(e) # from eV to a.u.\n",
    "    h=4.135667662 #in eV*fs\n",
    "    \n",
    "    class Data_Nonexisting_Error(Exception):\n",
    "        def __init__(self, message):\n",
    "            self.message = message\n",
    "#     \n",
    "    \n",
    "    def __init__(self, EnAxis, EnOutput, TAxis, TOutput, num_electrons1, num_electrons2, dE = 0, dT = 0):\n",
    "        from streaking_cal.statistics import weighted_avg_and_std\n",
    "        \n",
    "        if dE == 0:\n",
    "            dE = weighted_avg_and_std(EnAxis.get(),cp.square(cp.abs(EnOutput)).get())[1]\n",
    "            \n",
    "        if dT == 0:\n",
    "            dT = weighted_avg_and_std(TAxis.get(),cp.square(cp.abs(TOutput)).get())[1]\n",
    "        \n",
    "        \n",
    "        self.dE = dE\n",
    "        self.dT = dT\n",
    "        self.__spec = EnOutput\n",
    "        self.__eAxis = EnAxis\n",
    "        self.__temp = TOutput\n",
    "        self.__tAxis = TAxis\n",
    "        self.num_electrons1=num_electrons1\n",
    "        self.num_electrons2=num_electrons2\n",
    "        self.__is_low_res = False\n",
    "        self.__streakspeed=0\n",
    "        del(EnAxis)\n",
    "        del(EnOutput)\n",
    "        del(TAxis)\n",
    "        del(TOutput)\n",
    "        \n",
    "#     @property for read access only members\n",
    "            \n",
    "    \n",
    "    @classmethod\n",
    "    def from_GS(cls, dE = 0.35, dT = 35, centralE = 73, num_electrons1=25, num_electrons2=25):\n",
    "        from streaking_cal.GetSASE import GetSASE_gpu as GS   \n",
    "#         from streaking_cal.statistics import weighted_avg_and_std    \n",
    "\n",
    "\n",
    "        (EnAxis, EnOutput, TAxis, TOutput)= GS(CentralEnergy=centralE, \n",
    "                             dE_FWHM=2.355*dE*2**0.5, \n",
    "                             dt_FWHM=2.355*dT*2**0.5,\n",
    "                             onlyT=False)    \n",
    "        EnAxis = EnAxis.astype(\"float32\")\n",
    "        TAxis = TAxis.astype(\"float32\")\n",
    "        EnOutput = EnOutput.astype(\"complex64\")\n",
    "        TOutput = TOutput.astype(\"complex64\")\n",
    "\n",
    "        \n",
    "        return cls(EnAxis, EnOutput, TAxis, TOutput, num_electrons1, num_electrons2, dE, dT )\n",
    "    \n",
    "    @classmethod\n",
    "    def from_file(cls, path_temp, num_electrons1 = 25, num_electrons2 = 25):\n",
    "        TOutput=cp.fromfile(path_temp , dtype=\"complex64\")\n",
    "        TAxis = cp.fromfile(\"./GS_Pulses/axis/time_axis.dat\" , dtype=\"float32\")\n",
    "        \n",
    "        EnOutput=cp.fft.ifft(TOutput)\n",
    "        EnAxis=cp.linspace(0,140,32*1024)\n",
    "        \n",
    "        return cls(EnAxis, EnOutput, TAxis, TOutput,num_electrons1, num_electrons2)\n",
    "\n",
    "#     certain entries may be deleted after calculation of measured spectra\n",
    "    def get_temp(self):\n",
    "        return self.__temp\n",
    "    \n",
    "    def get_tAxis(self): \n",
    "        return self.__tAxis\n",
    "    \n",
    "    def get_spec(self):        \n",
    "        if self.__is_low_res:\n",
    "            return None\n",
    "        else:\n",
    "            return self.__spec\n",
    "    \n",
    "    def get_eAxis(self):\n",
    "        if self.__is_low_res:\n",
    "            return None\n",
    "        else:\n",
    "            return self.__eAxis\n",
    "        \n",
    "    def is_low_res(self):\n",
    "        return self.__is_low_res\n",
    "    \n",
    "    def __get_streaked_spectra(self,streakspeed):\n",
    "        if self.is_low_res ==True:\n",
    "            return None\n",
    "        else:\n",
    "            from cupy.fft import fft\n",
    "            \n",
    "            fs_in_au=lambda t: 41.3414*t; # from fs to a.u.\n",
    "            eV_in_au= lambda e: 0.271106*np.sqrt(e) # from eV to a.u.\n",
    "        \n",
    "            E0=232000*streakspeed # in V/m; shape of Vectorpotential determines: 232000 V/m = 1 meV/fs max streakspeed\n",
    "            ff1=cp.flip(fft(self.__temp*cp.exp(-1j*fs_in_au(self.__tAxis)*(1/(2)*(p0*E0*p_times_A_vals_up + \n",
    "                                                                      1*E0**2*A_square_vals_up)))))\n",
    "            ff2=cp.flip(fft(self.__temp*cp.exp(-1j*fs_in_au(self.__tAxis)*(1/(2)*(p0*E0*p_times_A_vals_down + \n",
    "                                                                      1*E0**2*A_square_vals_down)))))\n",
    "\n",
    "            spectrum1=cp.square(cp.abs(ff1))\n",
    "            spectrum2=cp.square(cp.abs(ff2))\n",
    "\n",
    "    #         ff1=ff1/(cp.sum(cp.square(cp.abs(ff1))))\n",
    "    #         ff1=ff2/(cp.sum(cp.square(cp.abs(ff2))))\n",
    "\n",
    "            return spectrum1,spectrum2\n",
    "    \n",
    "    @staticmethod\n",
    "    @vectorize([float64(float64,boolean)])\n",
    "    def get_ind_vals(new_y, start):\n",
    "        if not(start):\n",
    "            new_y+=peak_max_y\n",
    "        idx= np.abs(tof_ens - new_y).argmin()\n",
    "        if start:\n",
    "            if tof_ens[idx]<new_y:\n",
    "                idx+=1\n",
    "        else:\n",
    "            if tof_ens[idx]>new_y+peak_max_y:\n",
    "                idx-=1\n",
    "        return idx\n",
    "    \n",
    "    @staticmethod\n",
    "    def discretized_spectrum(spectrum,num_points):\n",
    "        from numpy import interp\n",
    "        spectrum = cp.asnumpy(spectrum)\n",
    "        vals=Pulse.discrete_positions(spectrum,num_points)\n",
    "        st=Pulse.get_ind_vals(vals,True).astype(\"int\")\n",
    "        en=Pulse.get_ind_vals(vals,False).astype(\"int\")\n",
    "        new_spec=np.zeros(len(tof_ens))\n",
    "        \n",
    "        orig_tof_no_off=orig_tof_ens[:10]-orig_tof_ens[0]\n",
    "        for start,end,valq in zip(st,en,vals):\n",
    "            intvals=tof_ens[start:end]\n",
    "            new_int=np.interp(intvals,orig_tof_no_off+valq,Pulse.single_discrete_spike())\n",
    "            new_spec[start:end]+=new_int\n",
    "        new_spec=new_spec/sum(new_spec)\n",
    "        return new_spec\n",
    "\n",
    "    \n",
    "#     def __discretized_spectrum(self,spectrum,num_points):\n",
    "#         ll=len(self.__single_discrete_spike())\n",
    "#         sval=self.__discrete_positions(spectrum,num_points)\n",
    "#         sval_ens=interp(cp.array(sval),cp.arange(len(tof_ens)),tof_ens_gpu)\n",
    "#         new_spec=cp.zeros(len(tof_ens))\n",
    "#         one_spike_int = lambda r : interp(tof_ens_gpu\n",
    "#                                           ,cp.asarray(orig_tof_ens[:ll]-orig_tof_ens[7])+r\n",
    "#                                           ,self.__single_discrete_spike())\n",
    "#         all_spikes=cp.array([one_spike_int(i) for i in sval_ens])\n",
    "#         new_spec= cp.sum(all_spikes,axis=0)\n",
    "\n",
    "#         return new_spec\n",
    "\n",
    "    @staticmethod\n",
    "    def single_discrete_spike():\n",
    "        from numpy.random import rand\n",
    "        from numpy import pad,floor,ceil\n",
    "#         padval=(len(orig_tof_ens)-len(noisepeak))/2\n",
    "        single_spike=0.4*rand(10)+gauss_spike\n",
    "    #     single_spike= pad(single_spike, (floor(padval).astype(int), \n",
    "    #                                      ceil(padval).astype(int)), 'constant', constant_values=(0))\n",
    "        return single_spike\n",
    "\n",
    "    @staticmethod\n",
    "    def discrete_positions(spectrum,num_points):\n",
    "        from scipy.interpolate import interp1d\n",
    "        from numpy import interp as npinterp\n",
    "        from numpy.random import rand\n",
    "        from numpy import cumsum\n",
    "        from numpy import round as np_round\n",
    "        spectrum=cp.asnumpy(spectrum)\n",
    "        cumulative_spectrum=(np.cumsum(spectrum))/sum(spectrum)\n",
    "        indices=np.arange(len(spectrum))\n",
    "        discrete_positions=npinterp(rand(num_points),cumulative_spectrum,indices)\n",
    "#         discrete_positions=mint(rand(num_points))\n",
    "        discrete_positions=npinterp(discrete_positions,np.arange(len(tof_ens)),tof_ens)\n",
    "\n",
    "    #     discrete_positions=np_round(discrete_positions)\n",
    "        return discrete_positions\n",
    "    \n",
    "#     two methods (training and validation) from distinct original measurements to introduce \n",
    "#     background noise into the spectra\n",
    "    def __makenoise_train(self,maxv):\n",
    "        '''background noise used for training'''\n",
    "        from numpy.random import randint\n",
    "        from numpy import roll\n",
    "        hnoise=measurednoise_train*cp.asnumpy(maxv)\n",
    "        return roll(hnoise,np.random.randint(1,len(tof_ens)))[:len(tof_ens)]\n",
    "    \n",
    "    def __makenoise_val(self,maxv):\n",
    "        '''background noise used for validation'''\n",
    "        from numpy.random import randint\n",
    "        from numpy import roll\n",
    "        hnoise=measurednoise_val*cp.asnumpy(maxv)\n",
    "        return roll(hnoise,np.random.randint(1,len(tof_ens)))[:len(tof_ens)]\n",
    "    \n",
    "    def get_spectra(self,streakspeed_in_meV_per_fs, keep_originals=False, discretized = True):\n",
    "        '''returns streaked spectra, measured with \"number_electronsx\" simulated electrons or nondiscretized as a tuple'''\n",
    "        from streaking_cal.statistics import weighted_avg_and_std\n",
    "        \n",
    "        if not(self.is_low_res()):\n",
    "            \n",
    "            (streaked1,streaked2)=self.__get_streaked_spectra(streakspeed_in_meV_per_fs)\n",
    "\n",
    "            streaked1=interp(tof_ens_gpu,self.__eAxis,streaked1)\n",
    "            streaked2=interp(tof_ens_gpu,self.__eAxis,streaked2) \n",
    "            xuvonly = interp(tof_ens_gpu,self.__eAxis,cp.square(cp.abs(self.__spec)))\n",
    "            \n",
    "            if not(keep_originals):        \n",
    "                self.__eAxis = None\n",
    "                self.__spec = None\n",
    "                t_square=cp.square(cp.abs(self.__temp))\n",
    "                t_mean,_ = weighted_avg_and_std(self.__tAxis.get(),t_square.get())\n",
    "                self.__temp=interp(cp.asarray(standard_full_time),self.__tAxis-t_mean,t_square).get()    \n",
    "                self.__temp=self.__temp/cp.sum(self.__temp)\n",
    "                self.__tAxis=standard_full_time\n",
    "                self.__is_low_res=True\n",
    "                self.__streakedspectra= np.asarray((xuvonly.get(),streaked1.get(),streaked2.get()))\n",
    "                self.__streakspeed=streakspeed_in_meV_per_fs\n",
    "                self.__tAxis=standard_full_time;            \n",
    "            \n",
    "            if discretized:\n",
    "                streaked1=self.discretized_spectrum(streaked1,self.num_electrons1)\n",
    "                streaked2=self.discretized_spectrum(streaked2,self.num_electrons2)\n",
    "                \n",
    "            self.__streakspeed=streakspeed_in_meV_per_fs\n",
    "            \n",
    "            return cp.asnumpy(xuvonly),cp.asnumpy(streaked1),cp.asnumpy(streaked2)\n",
    "        \n",
    "        elif discretized:\n",
    "            (xuvonly,streaked1,streaked2) =self.__streakedspectra \n",
    "            streaked1=self.discretized_spectrum(streaked1,self.num_electrons1)\n",
    "            streaked2=self.discretized_spectrum(streaked2,self.num_electrons2)\n",
    "           \n",
    "            return cp.asnumpy(xuvonly),cp.asnumpy(streaked1),cp.asnumpy(streaked2)\n",
    "            \n",
    "            \n",
    "        else:    \n",
    "            return self.__streakedspectra.copy()\n",
    "         \n",
    "        \n",
    "    def get_augmented_spectra(self,streakspeed_in_meV_per_fs,for_training=False, discretized = True):\n",
    "        '''data augemtation to imitate: shift of XUV-energy, jitter between Streaking and XUV, background signal\n",
    "        values here are handcrafted for the (reduced) chosen resolution of self.__eAxis and might \n",
    "        need be adjusted in the future\n",
    "        ;Returns augemented spectra as a matrix'''\n",
    "        from numpy.random import randint\n",
    "        from numpy import asarray, roll\n",
    "        from sklearn.preprocessing import Normalizer\n",
    "                \n",
    "        aug_spectra = np.asarray(self.get_spectra(streakspeed_in_meV_per_fs, discretized= discretized))\n",
    "        \n",
    "#         to reduce dependancy from XUV-photon energy\n",
    "        shiftall= randint(-60,60)\n",
    "#         to account for jitter\n",
    "        shiftstr = randint(0,40)\n",
    "        \n",
    "        aug_spectra[0]= roll(aug_spectra[0],shiftall)\n",
    "        aug_spectra[1]= roll(aug_spectra[1],shiftall-shiftstr)          \n",
    "        aug_spectra[2]= roll(aug_spectra[2],shiftall+shiftstr)\n",
    "        \n",
    "#         add background signal from actual measurements\n",
    "#         if for_training:\n",
    "#             aug_spectra[1]=aug_spectra[1]+self.__makenoise_train(max(aug_spectra[1]))\n",
    "#             aug_spectra[2]=aug_spectra[2]+self.__makenoise_train(max(aug_spectra[2]))\n",
    "            \n",
    "#         else:\n",
    "#             aug_spectra[1]=aug_spectra[1]+self.__makenoise_val(max(aug_spectra[1]))\n",
    "#             aug_spectra[2]=aug_spectra[2]+self.__makenoise_val(max(aug_spectra[2])) \n",
    "            \n",
    "         \n",
    "#         aug_spectra[1]=np.convolve(noisepeak,aug_spectra[1],mode=\"same\")\n",
    "#         aug_spectra[2]=np.convolve(noisepeak,aug_spectra[2],mode=\"same\")\n",
    "        \n",
    "#             normalize to area 1\n",
    "        hnormalizer = Normalizer(norm =\"l1\")\n",
    "        norm1 = hnormalizer.transform(aug_spectra)\n",
    "                                      \n",
    "        return norm1\n",
    "        \n",
    "    def to_file(self, writepath):\n",
    "        if self.is_low_res():\n",
    "            raise self.Data_Nonexisting_Error('High resolution data is already deleted. Use to_file() before calculating streaked spectra or with get_spectra(keep_originals = True) ') \n",
    "        else:\n",
    "            self.get_temp().get().tofile(writepath)\n",
    "        \n",
    "    def get_streakspeed(self):\n",
    "        return self.__streakspeed       \n",
    "    \n",
    "    def to_raw_data(self):\n",
    "        pass\n",
    "        \n",
    "    \n",
    "    \n",
    "        "
   ]
  },
  {
   "cell_type": "markdown",
   "metadata": {},
   "source": [
    "## Save 10000 pulses for reference and validation"
   ]
  },
  {
   "cell_type": "code",
   "execution_count": 6,
   "metadata": {},
   "outputs": [],
   "source": [
    "# pbar = ProgressBar()\n",
    "# for i in pbar(range(10000)):\n",
    "#     a = Pulse.from_GS(dE = 0.4, dT = 45, num_electrons1=200, num_electrons2=200)\n",
    "#     a.to_file(\"./Pulses/GetSASE/Pulse_\"+str(i)+\".dat\")"
   ]
  },
  {
   "cell_type": "code",
   "execution_count": 7,
   "metadata": {},
   "outputs": [
    {
     "output_type": "stream",
     "name": "stderr",
     "text": [
      "100% (1300 of 1300) |####################| Elapsed Time: 0:00:06 Time:  0:00:06\n"
     ]
    }
   ],
   "source": [
    "# %%timeit\n",
    "pbar = ProgressBar()\n",
    "\n",
    "num_pulses=1300\n",
    "streakspeed = 95 # meV/fs\n",
    "X= [\"\"]*num_pulses\n",
    "y= [\"\"]*num_pulses\n",
    "\n",
    "for i in pbar(range(num_pulses)):\n",
    "    x1 = Pulse.from_GS(dT = np.random.uniform(10/2.355,120/2.355)\n",
    "                  , dE = np.random.uniform(0.2/2.355,1.8/2.355)\n",
    "                  , num_electrons1=np.random.randint(20,31)\n",
    "                  , num_electrons2=np.random.randint(20,31)\n",
    "                 )\n",
    "    x1.get_spectra(streakspeed,discretized=False)\n",
    "    X[i] = x1\n",
    "    \n",
    "    "
   ]
  },
  {
   "cell_type": "code",
   "execution_count": 54,
   "metadata": {},
   "outputs": [],
   "source": [
    "for i in X:\n",
    "    i.num_electrons1=np.random.randint(520,531)\n",
    "    i.num_electrons2=np.random.randint(520,531)"
   ]
  },
  {
   "cell_type": "code",
   "execution_count": 8,
   "metadata": {},
   "outputs": [],
   "source": [
    "\n",
    "class Datagenerator(Sequence):\n",
    "    def __init__(self, x_set,y_set, batch_size, for_train =True):\n",
    "        self.x, self.y = x_set, y_set\n",
    "#         self.pulses = pulses\n",
    "        self.batch_size = batch_size\n",
    "#         self.xdims = xdims\n",
    "#         self.ydims = ydims\n",
    "#         self.time=time\n",
    "        self.for_train=for_train\n",
    "\n",
    "    def __len__(self):\n",
    "        return int(np.ceil(len(self.x) / float(self.batch_size)))\n",
    "\n",
    "    def __getitem__(self, idx):\n",
    "        from tensorflow.keras.utils import Sequence\n",
    "        from scipy.ndimage import gaussian_filter\n",
    "        from numpy.random import uniform, randint\n",
    "        import numpy as np \n",
    "        from numpy import zeros\n",
    "        \n",
    "        batch = self.x[idx * self.batch_size:(idx + 1) * self.batch_size]\n",
    "#         batch = self.y[idx * self.batch_size:(idx + 1) * self.batch_size]\n",
    "\n",
    "#         x = [X[i].get_raw_matrix() for i in batch]\n",
    "\n",
    "        x=[]\n",
    "        for ind,i in enumerate(batch):\n",
    "            (xuv,str1,str2)=X[i].get_augmented_spectra(streakspeed,discretized=False)\n",
    "            b1=Raw_data(np.asarray((xuv,str1,str2)),tof_ens,X[i].get_temp(),num_electrons1=X[i].num_electrons1,num_electrons2=X[i].num_electrons2)\n",
    "            x.append(b1.get_raw_matrix())\n",
    "#             x[ind]=b1.get_all_tof()\n",
    "#             y.append(b1.get_temp())\n",
    "\n",
    "\n",
    "#         x = [X[i].get_augmented_spectra(0,discretized=False) for i in batch]\n",
    "        x = np.asarray(x)\n",
    "               \n",
    "        y = [X[i].get_temp() for i in batch]\n",
    "        y = np.asarray(y)\n",
    "        \n",
    "\n",
    "        return x.reshape(-1,3, x[0].shape[1],1), np.array(y) #.reshape(self.batch_size, -1)\n",
    "    \n",
    "    "
   ]
  },
  {
   "cell_type": "code",
   "execution_count": 9,
   "metadata": {},
   "outputs": [],
   "source": [
    "class CenterAround(tf.keras.constraints.Constraint):\n",
    "#   \"\"\"Constrains weight tensors to be centered around `ref_value`.\"\"\"\n",
    "\n",
    "    def __init__(self, ref_value):\n",
    "        self.ref_value = ref_value\n",
    "\n",
    "    def __call__(self, w):\n",
    "        mean = tf.reduce_mean(w)\n",
    "        return w - mean + self.ref_value\n",
    "    def get_config(self):\n",
    "        return {'ref_value': self.ref_value}"
   ]
  },
  {
   "cell_type": "code",
   "execution_count": 10,
   "metadata": {},
   "outputs": [
    {
     "output_type": "stream",
     "name": "stdout",
     "text": [
      "Model: \"mynet\"\n_________________________________________________________________\nLayer (type)                 Output Shape              Param #   \n=================================================================\ntraces (InputLayer)          [(None, 3, 1825, 1)]      0         \n_________________________________________________________________\nconv2d (Conv2D)              (None, 3, 1825, 128)      192128    \n_________________________________________________________________\nglobal_max_pooling2d (Global (None, 128)               0         \n_________________________________________________________________\nbatch_normalization (BatchNo (None, 128)               512       \n_________________________________________________________________\ndense (Dense)                (None, 256)               33024     \n_________________________________________________________________\ndense_1 (Dense)              (None, 512)               131584    \n=================================================================\nTotal params: 357,248\nTrainable params: 356,992\nNon-trainable params: 256\n_________________________________________________________________\n"
     ]
    }
   ],
   "source": [
    "from tensorflow.keras import Input\n",
    "from tensorflow.keras.layers import Subtract, GlobalMaxPooling2D, Conv2D, Dense, Lambda\n",
    "from tensorflow.keras.layers import MaxPooling2D, AveragePooling2D, BatchNormalization\n",
    "\n",
    "\n",
    "convdim=128\n",
    "\n",
    "inputs= Input(shape=(3, 1825,1), name=\"traces\")\n",
    "\n",
    "# x = BatchNormalization()(inputs)\n",
    "\n",
    "\n",
    "\n",
    "\n",
    "conv_out = Conv2D(convdim, kernel_size=(3,500), activation=\"relu\", input_shape=(3, 1825,1)\n",
    "           ,strides=1,padding=\"same\"\n",
    "          )(inputs)\n",
    "\n",
    "\n",
    "# x = MaxPooling2D(pool_size=(3, 3),strides=(1,2), padding=\"valid\")(conv_out)\n",
    "# x2 = AveragePooling2D(pool_size=(3, 3),strides=(1,2), padding=\"valid\")(conv_out)\n",
    "\n",
    "# x = Subtract()([x, x2])\n",
    "\n",
    "x= GlobalMaxPooling2D()(conv_out)\n",
    "\n",
    "# x = tf.keras.layers.LeakyReLU()(x)\n",
    "\n",
    "x = BatchNormalization()(x)\n",
    "\n",
    "x= Dense(256,activation=\"relu\"\n",
    "#          , kernel_constraint=CenterAround(0)\n",
    "        )(x)\n",
    "\n",
    "# x= Dense(10,activation=\"relu\"\n",
    "# #          , kernel_constraint=CenterAround(0)\n",
    "#         )(x)\n",
    "\n",
    "# x= Dense(100,activation=\"relu\"\n",
    "# #          , kernel_constraint=CenterAround(0)\n",
    "#         )(x)\n",
    "\n",
    "\n",
    "outputs = Dense(standard_full_time.shape[0], activation=\"softmax\")(x)\n",
    "\n",
    "model = tf.keras.Model(inputs, outputs, name=\"mynet\")\n",
    "model.summary()"
   ]
  },
  {
   "cell_type": "code",
   "execution_count": null,
   "metadata": {},
   "outputs": [],
   "source": []
  },
  {
   "cell_type": "code",
   "execution_count": 11,
   "metadata": {},
   "outputs": [],
   "source": [
    "from sklearn.model_selection import train_test_split\n",
    "\n",
    "wholeset =np.arange(len(X));\n",
    "\n",
    "pulses_train, pulses_test, y_train, y_test = train_test_split(wholeset,wholeset,test_size =0.05 ,random_state =1)\n",
    "params = {'batch_size': 250}\n",
    "train_ds = Datagenerator(pulses_train,y_train,**params)\n",
    "test_ds = Datagenerator(pulses_test,y_test,for_train =False,**params)\n",
    "\n",
    "# time2=time[abs(time)<250]\n",
    "          \n"
   ]
  },
  {
   "cell_type": "code",
   "execution_count": 216,
   "metadata": {},
   "outputs": [],
   "source": [
    "from tensorflow.keras.optimizers import Adam\n",
    "\n",
    "opt = Adam(lr=1e-3, decay=1e-3 / 200) #200 war hier mal number_of_epochs"
   ]
  },
  {
   "cell_type": "code",
   "execution_count": 12,
   "metadata": {
    "scrolled": true
   },
   "outputs": [
    {
     "output_type": "stream",
     "name": "stdout",
     "text": [
      "Epoch 1/25\n",
      "5/5 [==============================] - 4s 896ms/step - loss: 2.0110 - accuracy: 0.0219 - mae: 0.0030 - val_loss: 2.2331 - val_accuracy: 0.0308 - val_mae: 0.0032\n",
      "Epoch 2/25\n",
      "5/5 [==============================] - 3s 640ms/step - loss: 1.8036 - accuracy: 0.0308 - mae: 0.0029 - val_loss: 2.1534 - val_accuracy: 0.0154 - val_mae: 0.0031\n",
      "Epoch 3/25\n",
      "5/5 [==============================] - 3s 642ms/step - loss: 1.2043 - accuracy: 0.0372 - mae: 0.0024 - val_loss: 1.9935 - val_accuracy: 0.0154 - val_mae: 0.0031\n",
      "Epoch 4/25\n",
      "5/5 [==============================] - 3s 643ms/step - loss: 0.6994 - accuracy: 0.0445 - mae: 0.0018 - val_loss: 1.8427 - val_accuracy: 0.0154 - val_mae: 0.0030\n",
      "Epoch 5/25\n",
      "5/5 [==============================] - 3s 637ms/step - loss: 0.5314 - accuracy: 0.0316 - mae: 0.0016 - val_loss: 1.7239 - val_accuracy: 0.0308 - val_mae: 0.0029\n",
      "Epoch 6/25\n",
      "5/5 [==============================] - 3s 644ms/step - loss: 0.4722 - accuracy: 0.0316 - mae: 0.0015 - val_loss: 1.6516 - val_accuracy: 0.0462 - val_mae: 0.0028\n",
      "Epoch 7/25\n",
      "5/5 [==============================] - 3s 648ms/step - loss: 0.4463 - accuracy: 0.0324 - mae: 0.0015 - val_loss: 1.5923 - val_accuracy: 0.0154 - val_mae: 0.0028\n",
      "Epoch 8/25\n",
      "2/5 [===========>..................] - ETA: 1s - loss: 0.4336 - accuracy: 0.0433 - mae: 0.0014"
     ]
    },
    {
     "output_type": "error",
     "ename": "KeyboardInterrupt",
     "evalue": "",
     "traceback": [
      "\u001b[1;31m---------------------------------------------------------------------------\u001b[0m",
      "\u001b[1;31mKeyboardInterrupt\u001b[0m                         Traceback (most recent call last)",
      "\u001b[1;32m<ipython-input-12-025cc9718d10>\u001b[0m in \u001b[0;36m<module>\u001b[1;34m\u001b[0m\n\u001b[0;32m      5\u001b[0m \u001b[0mmodel\u001b[0m\u001b[1;33m.\u001b[0m\u001b[0mcompile\u001b[0m\u001b[1;33m(\u001b[0m\u001b[0moptimizer\u001b[0m\u001b[1;33m=\u001b[0m\u001b[1;34m\"nadam\"\u001b[0m\u001b[1;33m,\u001b[0m\u001b[0mloss\u001b[0m\u001b[1;33m=\u001b[0m\u001b[1;34m\"KLDivergence\"\u001b[0m\u001b[1;33m,\u001b[0m \u001b[0mmetrics\u001b[0m\u001b[1;33m=\u001b[0m\u001b[1;33m[\u001b[0m\u001b[1;34m\"accuracy\"\u001b[0m\u001b[1;33m,\u001b[0m\u001b[1;34m\"mae\"\u001b[0m\u001b[1;33m]\u001b[0m\u001b[1;33m)\u001b[0m\u001b[1;33m\u001b[0m\u001b[1;33m\u001b[0m\u001b[0m\n\u001b[0;32m      6\u001b[0m \u001b[1;33m\u001b[0m\u001b[0m\n\u001b[1;32m----> 7\u001b[1;33m history= model.fit(x=train_ds,validation_data=test_ds,\n\u001b[0m\u001b[0;32m      8\u001b[0m \u001b[1;31m#                     use_multiprocessing=True,\u001b[0m\u001b[1;33m\u001b[0m\u001b[1;33m\u001b[0m\u001b[1;33m\u001b[0m\u001b[0m\n\u001b[0;32m      9\u001b[0m \u001b[1;31m#                     workers=4,\u001b[0m\u001b[1;33m\u001b[0m\u001b[1;33m\u001b[0m\u001b[1;33m\u001b[0m\u001b[0m\n",
      "\u001b[1;32mD:\\anaconda3\\lib\\site-packages\\tensorflow\\python\\keras\\engine\\training.py\u001b[0m in \u001b[0;36m_method_wrapper\u001b[1;34m(self, *args, **kwargs)\u001b[0m\n\u001b[0;32m    106\u001b[0m   \u001b[1;32mdef\u001b[0m \u001b[0m_method_wrapper\u001b[0m\u001b[1;33m(\u001b[0m\u001b[0mself\u001b[0m\u001b[1;33m,\u001b[0m \u001b[1;33m*\u001b[0m\u001b[0margs\u001b[0m\u001b[1;33m,\u001b[0m \u001b[1;33m**\u001b[0m\u001b[0mkwargs\u001b[0m\u001b[1;33m)\u001b[0m\u001b[1;33m:\u001b[0m\u001b[1;33m\u001b[0m\u001b[1;33m\u001b[0m\u001b[0m\n\u001b[0;32m    107\u001b[0m     \u001b[1;32mif\u001b[0m \u001b[1;32mnot\u001b[0m \u001b[0mself\u001b[0m\u001b[1;33m.\u001b[0m\u001b[0m_in_multi_worker_mode\u001b[0m\u001b[1;33m(\u001b[0m\u001b[1;33m)\u001b[0m\u001b[1;33m:\u001b[0m  \u001b[1;31m# pylint: disable=protected-access\u001b[0m\u001b[1;33m\u001b[0m\u001b[1;33m\u001b[0m\u001b[0m\n\u001b[1;32m--> 108\u001b[1;33m       \u001b[1;32mreturn\u001b[0m \u001b[0mmethod\u001b[0m\u001b[1;33m(\u001b[0m\u001b[0mself\u001b[0m\u001b[1;33m,\u001b[0m \u001b[1;33m*\u001b[0m\u001b[0margs\u001b[0m\u001b[1;33m,\u001b[0m \u001b[1;33m**\u001b[0m\u001b[0mkwargs\u001b[0m\u001b[1;33m)\u001b[0m\u001b[1;33m\u001b[0m\u001b[1;33m\u001b[0m\u001b[0m\n\u001b[0m\u001b[0;32m    109\u001b[0m \u001b[1;33m\u001b[0m\u001b[0m\n\u001b[0;32m    110\u001b[0m     \u001b[1;31m# Running inside `run_distribute_coordinator` already.\u001b[0m\u001b[1;33m\u001b[0m\u001b[1;33m\u001b[0m\u001b[1;33m\u001b[0m\u001b[0m\n",
      "\u001b[1;32mD:\\anaconda3\\lib\\site-packages\\tensorflow\\python\\keras\\engine\\training.py\u001b[0m in \u001b[0;36mfit\u001b[1;34m(self, x, y, batch_size, epochs, verbose, callbacks, validation_split, validation_data, shuffle, class_weight, sample_weight, initial_epoch, steps_per_epoch, validation_steps, validation_batch_size, validation_freq, max_queue_size, workers, use_multiprocessing)\u001b[0m\n\u001b[0;32m   1101\u001b[0m               \u001b[0mlogs\u001b[0m \u001b[1;33m=\u001b[0m \u001b[0mtmp_logs\u001b[0m  \u001b[1;31m# No error, now safe to assign to logs.\u001b[0m\u001b[1;33m\u001b[0m\u001b[1;33m\u001b[0m\u001b[0m\n\u001b[0;32m   1102\u001b[0m               \u001b[0mend_step\u001b[0m \u001b[1;33m=\u001b[0m \u001b[0mstep\u001b[0m \u001b[1;33m+\u001b[0m \u001b[0mdata_handler\u001b[0m\u001b[1;33m.\u001b[0m\u001b[0mstep_increment\u001b[0m\u001b[1;33m\u001b[0m\u001b[1;33m\u001b[0m\u001b[0m\n\u001b[1;32m-> 1103\u001b[1;33m               \u001b[0mcallbacks\u001b[0m\u001b[1;33m.\u001b[0m\u001b[0mon_train_batch_end\u001b[0m\u001b[1;33m(\u001b[0m\u001b[0mend_step\u001b[0m\u001b[1;33m,\u001b[0m \u001b[0mlogs\u001b[0m\u001b[1;33m)\u001b[0m\u001b[1;33m\u001b[0m\u001b[1;33m\u001b[0m\u001b[0m\n\u001b[0m\u001b[0;32m   1104\u001b[0m         \u001b[0mepoch_logs\u001b[0m \u001b[1;33m=\u001b[0m \u001b[0mcopy\u001b[0m\u001b[1;33m.\u001b[0m\u001b[0mcopy\u001b[0m\u001b[1;33m(\u001b[0m\u001b[0mlogs\u001b[0m\u001b[1;33m)\u001b[0m\u001b[1;33m\u001b[0m\u001b[1;33m\u001b[0m\u001b[0m\n\u001b[0;32m   1105\u001b[0m \u001b[1;33m\u001b[0m\u001b[0m\n",
      "\u001b[1;32mD:\\anaconda3\\lib\\site-packages\\tensorflow\\python\\keras\\callbacks.py\u001b[0m in \u001b[0;36mon_train_batch_end\u001b[1;34m(self, batch, logs)\u001b[0m\n\u001b[0;32m    438\u001b[0m     \"\"\"\n\u001b[0;32m    439\u001b[0m     \u001b[1;32mif\u001b[0m \u001b[0mself\u001b[0m\u001b[1;33m.\u001b[0m\u001b[0m_should_call_train_batch_hooks\u001b[0m\u001b[1;33m:\u001b[0m\u001b[1;33m\u001b[0m\u001b[1;33m\u001b[0m\u001b[0m\n\u001b[1;32m--> 440\u001b[1;33m       \u001b[0mself\u001b[0m\u001b[1;33m.\u001b[0m\u001b[0m_call_batch_hook\u001b[0m\u001b[1;33m(\u001b[0m\u001b[0mModeKeys\u001b[0m\u001b[1;33m.\u001b[0m\u001b[0mTRAIN\u001b[0m\u001b[1;33m,\u001b[0m \u001b[1;34m'end'\u001b[0m\u001b[1;33m,\u001b[0m \u001b[0mbatch\u001b[0m\u001b[1;33m,\u001b[0m \u001b[0mlogs\u001b[0m\u001b[1;33m=\u001b[0m\u001b[0mlogs\u001b[0m\u001b[1;33m)\u001b[0m\u001b[1;33m\u001b[0m\u001b[1;33m\u001b[0m\u001b[0m\n\u001b[0m\u001b[0;32m    441\u001b[0m \u001b[1;33m\u001b[0m\u001b[0m\n\u001b[0;32m    442\u001b[0m   \u001b[1;32mdef\u001b[0m \u001b[0mon_test_batch_begin\u001b[0m\u001b[1;33m(\u001b[0m\u001b[0mself\u001b[0m\u001b[1;33m,\u001b[0m \u001b[0mbatch\u001b[0m\u001b[1;33m,\u001b[0m \u001b[0mlogs\u001b[0m\u001b[1;33m=\u001b[0m\u001b[1;32mNone\u001b[0m\u001b[1;33m)\u001b[0m\u001b[1;33m:\u001b[0m\u001b[1;33m\u001b[0m\u001b[1;33m\u001b[0m\u001b[0m\n",
      "\u001b[1;32mD:\\anaconda3\\lib\\site-packages\\tensorflow\\python\\keras\\callbacks.py\u001b[0m in \u001b[0;36m_call_batch_hook\u001b[1;34m(self, mode, hook, batch, logs)\u001b[0m\n\u001b[0;32m    287\u001b[0m       \u001b[0mself\u001b[0m\u001b[1;33m.\u001b[0m\u001b[0m_call_batch_begin_hook\u001b[0m\u001b[1;33m(\u001b[0m\u001b[0mmode\u001b[0m\u001b[1;33m,\u001b[0m \u001b[0mbatch\u001b[0m\u001b[1;33m,\u001b[0m \u001b[0mlogs\u001b[0m\u001b[1;33m)\u001b[0m\u001b[1;33m\u001b[0m\u001b[1;33m\u001b[0m\u001b[0m\n\u001b[0;32m    288\u001b[0m     \u001b[1;32melif\u001b[0m \u001b[0mhook\u001b[0m \u001b[1;33m==\u001b[0m \u001b[1;34m'end'\u001b[0m\u001b[1;33m:\u001b[0m\u001b[1;33m\u001b[0m\u001b[1;33m\u001b[0m\u001b[0m\n\u001b[1;32m--> 289\u001b[1;33m       \u001b[0mself\u001b[0m\u001b[1;33m.\u001b[0m\u001b[0m_call_batch_end_hook\u001b[0m\u001b[1;33m(\u001b[0m\u001b[0mmode\u001b[0m\u001b[1;33m,\u001b[0m \u001b[0mbatch\u001b[0m\u001b[1;33m,\u001b[0m \u001b[0mlogs\u001b[0m\u001b[1;33m)\u001b[0m\u001b[1;33m\u001b[0m\u001b[1;33m\u001b[0m\u001b[0m\n\u001b[0m\u001b[0;32m    290\u001b[0m     \u001b[1;32melse\u001b[0m\u001b[1;33m:\u001b[0m\u001b[1;33m\u001b[0m\u001b[1;33m\u001b[0m\u001b[0m\n\u001b[0;32m    291\u001b[0m       \u001b[1;32mraise\u001b[0m \u001b[0mValueError\u001b[0m\u001b[1;33m(\u001b[0m\u001b[1;34m'Unrecognized hook: {}'\u001b[0m\u001b[1;33m.\u001b[0m\u001b[0mformat\u001b[0m\u001b[1;33m(\u001b[0m\u001b[0mhook\u001b[0m\u001b[1;33m)\u001b[0m\u001b[1;33m)\u001b[0m\u001b[1;33m\u001b[0m\u001b[1;33m\u001b[0m\u001b[0m\n",
      "\u001b[1;32mD:\\anaconda3\\lib\\site-packages\\tensorflow\\python\\keras\\callbacks.py\u001b[0m in \u001b[0;36m_call_batch_end_hook\u001b[1;34m(self, mode, batch, logs)\u001b[0m\n\u001b[0;32m    307\u001b[0m       \u001b[0mbatch_time\u001b[0m \u001b[1;33m=\u001b[0m \u001b[0mtime\u001b[0m\u001b[1;33m.\u001b[0m\u001b[0mtime\u001b[0m\u001b[1;33m(\u001b[0m\u001b[1;33m)\u001b[0m \u001b[1;33m-\u001b[0m \u001b[0mself\u001b[0m\u001b[1;33m.\u001b[0m\u001b[0m_batch_start_time\u001b[0m\u001b[1;33m\u001b[0m\u001b[1;33m\u001b[0m\u001b[0m\n\u001b[0;32m    308\u001b[0m \u001b[1;33m\u001b[0m\u001b[0m\n\u001b[1;32m--> 309\u001b[1;33m     \u001b[0mself\u001b[0m\u001b[1;33m.\u001b[0m\u001b[0m_call_batch_hook_helper\u001b[0m\u001b[1;33m(\u001b[0m\u001b[0mhook_name\u001b[0m\u001b[1;33m,\u001b[0m \u001b[0mbatch\u001b[0m\u001b[1;33m,\u001b[0m \u001b[0mlogs\u001b[0m\u001b[1;33m)\u001b[0m\u001b[1;33m\u001b[0m\u001b[1;33m\u001b[0m\u001b[0m\n\u001b[0m\u001b[0;32m    310\u001b[0m \u001b[1;33m\u001b[0m\u001b[0m\n\u001b[0;32m    311\u001b[0m     \u001b[1;32mif\u001b[0m \u001b[0mself\u001b[0m\u001b[1;33m.\u001b[0m\u001b[0m_check_timing\u001b[0m\u001b[1;33m:\u001b[0m\u001b[1;33m\u001b[0m\u001b[1;33m\u001b[0m\u001b[0m\n",
      "\u001b[1;32mD:\\anaconda3\\lib\\site-packages\\tensorflow\\python\\keras\\callbacks.py\u001b[0m in \u001b[0;36m_call_batch_hook_helper\u001b[1;34m(self, hook_name, batch, logs)\u001b[0m\n\u001b[0;32m    340\u001b[0m       \u001b[0mhook\u001b[0m \u001b[1;33m=\u001b[0m \u001b[0mgetattr\u001b[0m\u001b[1;33m(\u001b[0m\u001b[0mcallback\u001b[0m\u001b[1;33m,\u001b[0m \u001b[0mhook_name\u001b[0m\u001b[1;33m)\u001b[0m\u001b[1;33m\u001b[0m\u001b[1;33m\u001b[0m\u001b[0m\n\u001b[0;32m    341\u001b[0m       \u001b[1;32mif\u001b[0m \u001b[0mgetattr\u001b[0m\u001b[1;33m(\u001b[0m\u001b[0mcallback\u001b[0m\u001b[1;33m,\u001b[0m \u001b[1;34m'_supports_tf_logs'\u001b[0m\u001b[1;33m,\u001b[0m \u001b[1;32mFalse\u001b[0m\u001b[1;33m)\u001b[0m\u001b[1;33m:\u001b[0m\u001b[1;33m\u001b[0m\u001b[1;33m\u001b[0m\u001b[0m\n\u001b[1;32m--> 342\u001b[1;33m         \u001b[0mhook\u001b[0m\u001b[1;33m(\u001b[0m\u001b[0mbatch\u001b[0m\u001b[1;33m,\u001b[0m \u001b[0mlogs\u001b[0m\u001b[1;33m)\u001b[0m\u001b[1;33m\u001b[0m\u001b[1;33m\u001b[0m\u001b[0m\n\u001b[0m\u001b[0;32m    343\u001b[0m       \u001b[1;32melse\u001b[0m\u001b[1;33m:\u001b[0m\u001b[1;33m\u001b[0m\u001b[1;33m\u001b[0m\u001b[0m\n\u001b[0;32m    344\u001b[0m         \u001b[1;32mif\u001b[0m \u001b[0mnumpy_logs\u001b[0m \u001b[1;32mis\u001b[0m \u001b[1;32mNone\u001b[0m\u001b[1;33m:\u001b[0m  \u001b[1;31m# Only convert once.\u001b[0m\u001b[1;33m\u001b[0m\u001b[1;33m\u001b[0m\u001b[0m\n",
      "\u001b[1;32mD:\\anaconda3\\lib\\site-packages\\tensorflow\\python\\keras\\callbacks.py\u001b[0m in \u001b[0;36mon_train_batch_end\u001b[1;34m(self, batch, logs)\u001b[0m\n\u001b[0;32m    959\u001b[0m \u001b[1;33m\u001b[0m\u001b[0m\n\u001b[0;32m    960\u001b[0m   \u001b[1;32mdef\u001b[0m \u001b[0mon_train_batch_end\u001b[0m\u001b[1;33m(\u001b[0m\u001b[0mself\u001b[0m\u001b[1;33m,\u001b[0m \u001b[0mbatch\u001b[0m\u001b[1;33m,\u001b[0m \u001b[0mlogs\u001b[0m\u001b[1;33m=\u001b[0m\u001b[1;32mNone\u001b[0m\u001b[1;33m)\u001b[0m\u001b[1;33m:\u001b[0m\u001b[1;33m\u001b[0m\u001b[1;33m\u001b[0m\u001b[0m\n\u001b[1;32m--> 961\u001b[1;33m     \u001b[0mself\u001b[0m\u001b[1;33m.\u001b[0m\u001b[0m_batch_update_progbar\u001b[0m\u001b[1;33m(\u001b[0m\u001b[0mbatch\u001b[0m\u001b[1;33m,\u001b[0m \u001b[0mlogs\u001b[0m\u001b[1;33m)\u001b[0m\u001b[1;33m\u001b[0m\u001b[1;33m\u001b[0m\u001b[0m\n\u001b[0m\u001b[0;32m    962\u001b[0m \u001b[1;33m\u001b[0m\u001b[0m\n\u001b[0;32m    963\u001b[0m   \u001b[1;32mdef\u001b[0m \u001b[0mon_test_batch_end\u001b[0m\u001b[1;33m(\u001b[0m\u001b[0mself\u001b[0m\u001b[1;33m,\u001b[0m \u001b[0mbatch\u001b[0m\u001b[1;33m,\u001b[0m \u001b[0mlogs\u001b[0m\u001b[1;33m=\u001b[0m\u001b[1;32mNone\u001b[0m\u001b[1;33m)\u001b[0m\u001b[1;33m:\u001b[0m\u001b[1;33m\u001b[0m\u001b[1;33m\u001b[0m\u001b[0m\n",
      "\u001b[1;32mD:\\anaconda3\\lib\\site-packages\\tensorflow\\python\\keras\\callbacks.py\u001b[0m in \u001b[0;36m_batch_update_progbar\u001b[1;34m(self, batch, logs)\u001b[0m\n\u001b[0;32m   1014\u001b[0m     \u001b[1;32mif\u001b[0m \u001b[0mself\u001b[0m\u001b[1;33m.\u001b[0m\u001b[0mverbose\u001b[0m \u001b[1;33m==\u001b[0m \u001b[1;36m1\u001b[0m\u001b[1;33m:\u001b[0m\u001b[1;33m\u001b[0m\u001b[1;33m\u001b[0m\u001b[0m\n\u001b[0;32m   1015\u001b[0m       \u001b[1;31m# Only block async when verbose = 1.\u001b[0m\u001b[1;33m\u001b[0m\u001b[1;33m\u001b[0m\u001b[1;33m\u001b[0m\u001b[0m\n\u001b[1;32m-> 1016\u001b[1;33m       \u001b[0mlogs\u001b[0m \u001b[1;33m=\u001b[0m \u001b[0mtf_utils\u001b[0m\u001b[1;33m.\u001b[0m\u001b[0mto_numpy_or_python_type\u001b[0m\u001b[1;33m(\u001b[0m\u001b[0mlogs\u001b[0m\u001b[1;33m)\u001b[0m\u001b[1;33m\u001b[0m\u001b[1;33m\u001b[0m\u001b[0m\n\u001b[0m\u001b[0;32m   1017\u001b[0m       \u001b[0mself\u001b[0m\u001b[1;33m.\u001b[0m\u001b[0mprogbar\u001b[0m\u001b[1;33m.\u001b[0m\u001b[0mupdate\u001b[0m\u001b[1;33m(\u001b[0m\u001b[0mself\u001b[0m\u001b[1;33m.\u001b[0m\u001b[0mseen\u001b[0m\u001b[1;33m,\u001b[0m \u001b[0mlist\u001b[0m\u001b[1;33m(\u001b[0m\u001b[0mlogs\u001b[0m\u001b[1;33m.\u001b[0m\u001b[0mitems\u001b[0m\u001b[1;33m(\u001b[0m\u001b[1;33m)\u001b[0m\u001b[1;33m)\u001b[0m\u001b[1;33m,\u001b[0m \u001b[0mfinalize\u001b[0m\u001b[1;33m=\u001b[0m\u001b[1;32mFalse\u001b[0m\u001b[1;33m)\u001b[0m\u001b[1;33m\u001b[0m\u001b[1;33m\u001b[0m\u001b[0m\n\u001b[0;32m   1018\u001b[0m \u001b[1;33m\u001b[0m\u001b[0m\n",
      "\u001b[1;32mD:\\anaconda3\\lib\\site-packages\\tensorflow\\python\\keras\\utils\\tf_utils.py\u001b[0m in \u001b[0;36mto_numpy_or_python_type\u001b[1;34m(tensors)\u001b[0m\n\u001b[0;32m    535\u001b[0m     \u001b[1;32mreturn\u001b[0m \u001b[0mt\u001b[0m  \u001b[1;31m# Don't turn ragged or sparse tensors to NumPy.\u001b[0m\u001b[1;33m\u001b[0m\u001b[1;33m\u001b[0m\u001b[0m\n\u001b[0;32m    536\u001b[0m \u001b[1;33m\u001b[0m\u001b[0m\n\u001b[1;32m--> 537\u001b[1;33m   \u001b[1;32mreturn\u001b[0m \u001b[0mnest\u001b[0m\u001b[1;33m.\u001b[0m\u001b[0mmap_structure\u001b[0m\u001b[1;33m(\u001b[0m\u001b[0m_to_single_numpy_or_python_type\u001b[0m\u001b[1;33m,\u001b[0m \u001b[0mtensors\u001b[0m\u001b[1;33m)\u001b[0m\u001b[1;33m\u001b[0m\u001b[1;33m\u001b[0m\u001b[0m\n\u001b[0m\u001b[0;32m    538\u001b[0m \u001b[1;33m\u001b[0m\u001b[0m\n\u001b[0;32m    539\u001b[0m \u001b[1;33m\u001b[0m\u001b[0m\n",
      "\u001b[1;32mD:\\anaconda3\\lib\\site-packages\\tensorflow\\python\\util\\nest.py\u001b[0m in \u001b[0;36mmap_structure\u001b[1;34m(func, *structure, **kwargs)\u001b[0m\n\u001b[0;32m    633\u001b[0m \u001b[1;33m\u001b[0m\u001b[0m\n\u001b[0;32m    634\u001b[0m   return pack_sequence_as(\n\u001b[1;32m--> 635\u001b[1;33m       \u001b[0mstructure\u001b[0m\u001b[1;33m[\u001b[0m\u001b[1;36m0\u001b[0m\u001b[1;33m]\u001b[0m\u001b[1;33m,\u001b[0m \u001b[1;33m[\u001b[0m\u001b[0mfunc\u001b[0m\u001b[1;33m(\u001b[0m\u001b[1;33m*\u001b[0m\u001b[0mx\u001b[0m\u001b[1;33m)\u001b[0m \u001b[1;32mfor\u001b[0m \u001b[0mx\u001b[0m \u001b[1;32min\u001b[0m \u001b[0mentries\u001b[0m\u001b[1;33m]\u001b[0m\u001b[1;33m,\u001b[0m\u001b[1;33m\u001b[0m\u001b[1;33m\u001b[0m\u001b[0m\n\u001b[0m\u001b[0;32m    636\u001b[0m       expand_composites=expand_composites)\n\u001b[0;32m    637\u001b[0m \u001b[1;33m\u001b[0m\u001b[0m\n",
      "\u001b[1;32mD:\\anaconda3\\lib\\site-packages\\tensorflow\\python\\util\\nest.py\u001b[0m in \u001b[0;36m<listcomp>\u001b[1;34m(.0)\u001b[0m\n\u001b[0;32m    633\u001b[0m \u001b[1;33m\u001b[0m\u001b[0m\n\u001b[0;32m    634\u001b[0m   return pack_sequence_as(\n\u001b[1;32m--> 635\u001b[1;33m       \u001b[0mstructure\u001b[0m\u001b[1;33m[\u001b[0m\u001b[1;36m0\u001b[0m\u001b[1;33m]\u001b[0m\u001b[1;33m,\u001b[0m \u001b[1;33m[\u001b[0m\u001b[0mfunc\u001b[0m\u001b[1;33m(\u001b[0m\u001b[1;33m*\u001b[0m\u001b[0mx\u001b[0m\u001b[1;33m)\u001b[0m \u001b[1;32mfor\u001b[0m \u001b[0mx\u001b[0m \u001b[1;32min\u001b[0m \u001b[0mentries\u001b[0m\u001b[1;33m]\u001b[0m\u001b[1;33m,\u001b[0m\u001b[1;33m\u001b[0m\u001b[1;33m\u001b[0m\u001b[0m\n\u001b[0m\u001b[0;32m    636\u001b[0m       expand_composites=expand_composites)\n\u001b[0;32m    637\u001b[0m \u001b[1;33m\u001b[0m\u001b[0m\n",
      "\u001b[1;32mD:\\anaconda3\\lib\\site-packages\\tensorflow\\python\\keras\\utils\\tf_utils.py\u001b[0m in \u001b[0;36m_to_single_numpy_or_python_type\u001b[1;34m(t)\u001b[0m\n\u001b[0;32m    531\u001b[0m   \u001b[1;32mdef\u001b[0m \u001b[0m_to_single_numpy_or_python_type\u001b[0m\u001b[1;33m(\u001b[0m\u001b[0mt\u001b[0m\u001b[1;33m)\u001b[0m\u001b[1;33m:\u001b[0m\u001b[1;33m\u001b[0m\u001b[1;33m\u001b[0m\u001b[0m\n\u001b[0;32m    532\u001b[0m     \u001b[1;32mif\u001b[0m \u001b[0misinstance\u001b[0m\u001b[1;33m(\u001b[0m\u001b[0mt\u001b[0m\u001b[1;33m,\u001b[0m \u001b[0mops\u001b[0m\u001b[1;33m.\u001b[0m\u001b[0mTensor\u001b[0m\u001b[1;33m)\u001b[0m\u001b[1;33m:\u001b[0m\u001b[1;33m\u001b[0m\u001b[1;33m\u001b[0m\u001b[0m\n\u001b[1;32m--> 533\u001b[1;33m       \u001b[0mx\u001b[0m \u001b[1;33m=\u001b[0m \u001b[0mt\u001b[0m\u001b[1;33m.\u001b[0m\u001b[0mnumpy\u001b[0m\u001b[1;33m(\u001b[0m\u001b[1;33m)\u001b[0m\u001b[1;33m\u001b[0m\u001b[1;33m\u001b[0m\u001b[0m\n\u001b[0m\u001b[0;32m    534\u001b[0m       \u001b[1;32mreturn\u001b[0m \u001b[0mx\u001b[0m\u001b[1;33m.\u001b[0m\u001b[0mitem\u001b[0m\u001b[1;33m(\u001b[0m\u001b[1;33m)\u001b[0m \u001b[1;32mif\u001b[0m \u001b[0mnp\u001b[0m\u001b[1;33m.\u001b[0m\u001b[0mndim\u001b[0m\u001b[1;33m(\u001b[0m\u001b[0mx\u001b[0m\u001b[1;33m)\u001b[0m \u001b[1;33m==\u001b[0m \u001b[1;36m0\u001b[0m \u001b[1;32melse\u001b[0m \u001b[0mx\u001b[0m\u001b[1;33m\u001b[0m\u001b[1;33m\u001b[0m\u001b[0m\n\u001b[0;32m    535\u001b[0m     \u001b[1;32mreturn\u001b[0m \u001b[0mt\u001b[0m  \u001b[1;31m# Don't turn ragged or sparse tensors to NumPy.\u001b[0m\u001b[1;33m\u001b[0m\u001b[1;33m\u001b[0m\u001b[0m\n",
      "\u001b[1;32mD:\\anaconda3\\lib\\site-packages\\tensorflow\\python\\framework\\ops.py\u001b[0m in \u001b[0;36mnumpy\u001b[1;34m(self)\u001b[0m\n\u001b[0;32m   1061\u001b[0m     \"\"\"\n\u001b[0;32m   1062\u001b[0m     \u001b[1;31m# TODO(slebedev): Consider avoiding a copy for non-CPU or remote tensors.\u001b[0m\u001b[1;33m\u001b[0m\u001b[1;33m\u001b[0m\u001b[1;33m\u001b[0m\u001b[0m\n\u001b[1;32m-> 1063\u001b[1;33m     \u001b[0mmaybe_arr\u001b[0m \u001b[1;33m=\u001b[0m \u001b[0mself\u001b[0m\u001b[1;33m.\u001b[0m\u001b[0m_numpy\u001b[0m\u001b[1;33m(\u001b[0m\u001b[1;33m)\u001b[0m  \u001b[1;31m# pylint: disable=protected-access\u001b[0m\u001b[1;33m\u001b[0m\u001b[1;33m\u001b[0m\u001b[0m\n\u001b[0m\u001b[0;32m   1064\u001b[0m     \u001b[1;32mreturn\u001b[0m \u001b[0mmaybe_arr\u001b[0m\u001b[1;33m.\u001b[0m\u001b[0mcopy\u001b[0m\u001b[1;33m(\u001b[0m\u001b[1;33m)\u001b[0m \u001b[1;32mif\u001b[0m \u001b[0misinstance\u001b[0m\u001b[1;33m(\u001b[0m\u001b[0mmaybe_arr\u001b[0m\u001b[1;33m,\u001b[0m \u001b[0mnp\u001b[0m\u001b[1;33m.\u001b[0m\u001b[0mndarray\u001b[0m\u001b[1;33m)\u001b[0m \u001b[1;32melse\u001b[0m \u001b[0mmaybe_arr\u001b[0m\u001b[1;33m\u001b[0m\u001b[1;33m\u001b[0m\u001b[0m\n\u001b[0;32m   1065\u001b[0m \u001b[1;33m\u001b[0m\u001b[0m\n",
      "\u001b[1;32mD:\\anaconda3\\lib\\site-packages\\tensorflow\\python\\framework\\ops.py\u001b[0m in \u001b[0;36m_numpy\u001b[1;34m(self)\u001b[0m\n\u001b[0;32m   1027\u001b[0m   \u001b[1;32mdef\u001b[0m \u001b[0m_numpy\u001b[0m\u001b[1;33m(\u001b[0m\u001b[0mself\u001b[0m\u001b[1;33m)\u001b[0m\u001b[1;33m:\u001b[0m\u001b[1;33m\u001b[0m\u001b[1;33m\u001b[0m\u001b[0m\n\u001b[0;32m   1028\u001b[0m     \u001b[1;32mtry\u001b[0m\u001b[1;33m:\u001b[0m\u001b[1;33m\u001b[0m\u001b[1;33m\u001b[0m\u001b[0m\n\u001b[1;32m-> 1029\u001b[1;33m       \u001b[1;32mreturn\u001b[0m \u001b[0mself\u001b[0m\u001b[1;33m.\u001b[0m\u001b[0m_numpy_internal\u001b[0m\u001b[1;33m(\u001b[0m\u001b[1;33m)\u001b[0m\u001b[1;33m\u001b[0m\u001b[1;33m\u001b[0m\u001b[0m\n\u001b[0m\u001b[0;32m   1030\u001b[0m     \u001b[1;32mexcept\u001b[0m \u001b[0mcore\u001b[0m\u001b[1;33m.\u001b[0m\u001b[0m_NotOkStatusException\u001b[0m \u001b[1;32mas\u001b[0m \u001b[0me\u001b[0m\u001b[1;33m:\u001b[0m  \u001b[1;31m# pylint: disable=protected-access\u001b[0m\u001b[1;33m\u001b[0m\u001b[1;33m\u001b[0m\u001b[0m\n\u001b[0;32m   1031\u001b[0m       \u001b[0msix\u001b[0m\u001b[1;33m.\u001b[0m\u001b[0mraise_from\u001b[0m\u001b[1;33m(\u001b[0m\u001b[0mcore\u001b[0m\u001b[1;33m.\u001b[0m\u001b[0m_status_to_exception\u001b[0m\u001b[1;33m(\u001b[0m\u001b[0me\u001b[0m\u001b[1;33m.\u001b[0m\u001b[0mcode\u001b[0m\u001b[1;33m,\u001b[0m \u001b[0me\u001b[0m\u001b[1;33m.\u001b[0m\u001b[0mmessage\u001b[0m\u001b[1;33m)\u001b[0m\u001b[1;33m,\u001b[0m \u001b[1;32mNone\u001b[0m\u001b[1;33m)\u001b[0m  \u001b[1;31m# pylint: disable=protected-access\u001b[0m\u001b[1;33m\u001b[0m\u001b[1;33m\u001b[0m\u001b[0m\n",
      "\u001b[1;31mKeyboardInterrupt\u001b[0m: "
     ]
    }
   ],
   "source": [
    "lr_schedule = tf.keras.optimizers.schedules.ExponentialDecay( initial_learning_rate= 0.2, decay_steps=15000, decay_rate= 0.99\n",
    "                                              ,staircase= True)\n",
    "nadam =   tf.keras.optimizers.Nadam(learning_rate=0.01)\n",
    "adagrad =    tf.keras.optimizers.Adagrad(learning_rate=lr_schedule, initial_accumulator_value=0.1)\n",
    "model.compile(optimizer=\"nadam\",loss=\"KLDivergence\", metrics=[\"accuracy\",\"mae\"])\n",
    "\n",
    "history= model.fit(x=train_ds,validation_data=test_ds,\n",
    "#                     use_multiprocessing=True,\n",
    "#                     workers=4,\n",
    "                    epochs=25\n",
    "                   )"
   ]
  },
  {
   "cell_type": "code",
   "execution_count": null,
   "metadata": {},
   "outputs": [],
   "source": [
    "#\"nadam\"\n",
    "#701 points, 5 epochs, 130000 pulses,val_loss=0.3551\n",
    "#1401 points, 5 epochs, 130000 pulses,val_loss=0.3532\n",
    "#model-split:1401 points 25 epochs, 130000 pulses val_loss= 0.3572 (0.3555-0.3572)\n",
    "#model-normal:1401 points 25 epochs, 130000 pulses val_loss= 0.3562 (0.3554-0.3562)\n",
    "#model-normal, all TOF:1401 points, 25 els, 25 epochs, 130000 pulses val_loss= 0.3565 (0.3565-0.3576)\n",
    "#model-normal, all TOF:1401 points, 500 els, 25 epochs, 130000 pulses val_loss= 0.2935 (0.2930-0.2950)?\n",
    "#model-normal:1401 points, 500 els, 25 epochs, 130000 pulses val_loss= 0.3019 (0.2921-0.3019)\n",
    "#adam 1e-3\n",
    "#model-normal:1401 points 25 epochs, 130000 pulses val_loss= 0.3550 (0.3550-0.3568)"
   ]
  },
  {
   "cell_type": "code",
   "execution_count": null,
   "metadata": {},
   "outputs": [],
   "source": [
    "\n",
    "%matplotlib inline\n",
    "plt.plot(history.history[\"loss\"])\n",
    "plt.plot(history.history[\"val_loss\"])"
   ]
  },
  {
   "cell_type": "code",
   "execution_count": 74,
   "metadata": {},
   "outputs": [],
   "source": [
    "with open('./GS-95_20-31els-conv/trainHistoryDict.dat', 'wb') as file_pi:\n",
    "    pickle.dump(history.history, file_pi)"
   ]
  },
  {
   "cell_type": "code",
   "execution_count": null,
   "metadata": {},
   "outputs": [],
   "source": [
    "%matplotlib inline\n",
    "plt.plot(history[\"loss\"])\n",
    "plt.plot(history[\"val_loss\"])"
   ]
  },
  {
   "cell_type": "code",
   "execution_count": 78,
   "metadata": {},
   "outputs": [],
   "source": [
    "import pickle\n",
    "history = pickle.load(open(\"./GS-95_20-31els-conv/trainHistoryDict.dat\", \"rb\"))"
   ]
  },
  {
   "cell_type": "code",
   "execution_count": null,
   "metadata": {
    "scrolled": true
   },
   "outputs": [],
   "source": [
    "mempool.free_all_blocks()\n",
    "print(mempool.used_bytes())\n",
    "print(mempool.total_bytes()) "
   ]
  },
  {
   "cell_type": "code",
   "execution_count": 42,
   "metadata": {
    "scrolled": false
   },
   "outputs": [
    {
     "name": "stdout",
     "output_type": "stream",
     "text": [
      "WARNING:tensorflow:From D:\\anaconda3\\lib\\site-packages\\tensorflow\\python\\training\\tracking\\tracking.py:111: Model.state_updates (from tensorflow.python.keras.engine.training) is deprecated and will be removed in a future version.\n",
      "Instructions for updating:\n",
      "This property should not be used in TensorFlow 2.0, as updates are applied automatically.\n",
      "WARNING:tensorflow:From D:\\anaconda3\\lib\\site-packages\\tensorflow\\python\\training\\tracking\\tracking.py:111: Layer.updates (from tensorflow.python.keras.engine.base_layer) is deprecated and will be removed in a future version.\n",
      "Instructions for updating:\n",
      "This property should not be used in TensorFlow 2.0, as updates are applied automatically.\n",
      "INFO:tensorflow:Assets written to: ./GS-95_20-31els-conv\\assets\n"
     ]
    }
   ],
   "source": [
    "# model.save('./GS-95_20-31els-conv')\n",
    "# "
   ]
  },
  {
   "cell_type": "code",
   "execution_count": 6,
   "metadata": {
    "scrolled": true
   },
   "outputs": [],
   "source": [
    "model = tf.keras.models.load_model('./GS-95_20-31els-conv')"
   ]
  },
  {
   "cell_type": "code",
   "execution_count": 126,
   "metadata": {},
   "outputs": [],
   "source": [
    "msle = tf.keras.losses.MeanAbsoluteError()"
   ]
  },
  {
   "cell_type": "code",
   "execution_count": 406,
   "metadata": {},
   "outputs": [],
   "source": [
    "# model.evaluate(X_test.reshape(-1, 3, xdims, 1), y_test)\n"
   ]
  },
  {
   "cell_type": "code",
   "execution_count": 36,
   "metadata": {},
   "outputs": [],
   "source": [
    "# preds=model.predict(np.asarray(X_test).reshape(-1, 3, xdims, 1))"
   ]
  },
  {
   "cell_type": "code",
   "execution_count": 53,
   "metadata": {},
   "outputs": [
    {
     "data": {
      "text/plain": [
       "(400.0, 650.0)"
      ]
     },
     "execution_count": 53,
     "metadata": {},
     "output_type": "execute_result"
    },
    {
     "data": {
      "image/png": "[encoded data removed]",
      "text/plain": [
       "<Figure size 432x288 with 1 Axes>"
      ]
     },
     "metadata": {
      "needs_background": "light"
     },
     "output_type": "display_data"
    },
    {
     "data": {
      "image/png": "[encoded data removed]",
      "text/plain": [
       "<Figure size 432x288 with 1 Axes>"
      ]
     },
     "metadata": {
      "needs_background": "light"
     },
     "output_type": "display_data"
    },
    {
     "data": {
      "image/png": "[encoded data removed]",
      "text/plain": [
       "<Figure size 432x288 with 1 Axes>"
      ]
     },
     "metadata": {
      "needs_background": "light"
     },
     "output_type": "display_data"
    }
   ],
   "source": [
    "testitems= test_ds.__getitem__(1)\n",
    "preds=model.predict(testitems[0])\n",
    "y_test=testitems[1]\n",
    "%matplotlib inline\n",
    "vv=108\n",
    "\n",
    "\n",
    "plt.plot(standard_full_time,y_test[vv])\n",
    "plt.plot(standard_full_time,preds[vv],'--')\n",
    "# plt.plot(time,gaussian_filter(y_test[vv],10))\n",
    "\n",
    "plt.figure()\n",
    "plt.plot(standard_full_time,preds[vv],'orange')\n",
    "\n",
    "plt.figure()\n",
    "# plt.plot(tof_ens,testitems[0][vv][0])\n",
    "plt.plot(np.arange(1825),testitems[0][vv][1])\n",
    "plt.plot(np.arange(1825),testitems[0][vv][2])\n",
    "# plt.plot(np.arange(1825),testitems[0][vv][0])\n",
    "plt.xlim([400,650])\n"
   ]
  },
  {
   "cell_type": "code",
   "execution_count": 44,
   "metadata": {},
   "outputs": [
    {
     "data": {
      "text/plain": [
       "[<matplotlib.lines.Line2D at 0x1561a339ca0>]"
      ]
     },
     "execution_count": 44,
     "metadata": {},
     "output_type": "execute_result"
    },
    {
     "data": {
      "image/png": "[encoded data removed]",
      "text/plain": [
       "<Figure size 432x288 with 1 Axes>"
      ]
     },
     "metadata": {
      "needs_background": "light"
     },
     "output_type": "display_data"
    }
   ],
   "source": [
    "plt.plot(test_ds.__getitem__(0)[0][5][1])"
   ]
  },
  {
   "cell_type": "code",
   "execution_count": 55,
   "metadata": {},
   "outputs": [
    {
     "data": {
      "text/plain": [
       "[<matplotlib.lines.Line2D at 0x20cd8a4e910>]"
      ]
     },
     "execution_count": 55,
     "metadata": {},
     "output_type": "execute_result"
    },
    {
     "data": {
      "image/png": "[encoded data removed]",
      "text/plain": [
       "<Figure size 432x288 with 1 Axes>"
      ]
     },
     "metadata": {
      "needs_background": "light"
     },
     "output_type": "display_data"
    }
   ],
   "source": [
    "nnn=99\n",
    "\n",
    "plt.plot(measured_spectra.reshape(-1,3,701,1)[nnn][1])\n",
    "plt.plot(measured_spectra.reshape(-1,3,701,1)[nnn][2])\n",
    "plt.plot(0.1*measured_spectra.reshape(-1,3,701,1)[nnn][0])"
   ]
  },
  {
   "cell_type": "code",
   "execution_count": 48,
   "metadata": {},
   "outputs": [
    {
     "data": {
      "text/plain": [
       "[<matplotlib.lines.Line2D at 0x2640904a5e0>]"
      ]
     },
     "execution_count": 48,
     "metadata": {},
     "output_type": "execute_result"
    },
    {
     "data": {
      "image/png": "[encoded data removed]",
      "text/plain": [
       "<Figure size 432x288 with 1 Axes>"
      ]
     },
     "metadata": {
      "needs_background": "light"
     },
     "output_type": "display_data"
    }
   ],
   "source": [
    "plt.plot(standard_full_time,np.min(preds,axis=0))"
   ]
  },
  {
   "cell_type": "code",
   "execution_count": 7,
   "metadata": {},
   "outputs": [],
   "source": [
    "measured_spectra2=measured_spectra.reshape(-1,3,701,1)\n",
    "preds=model.predict(measured_spectra2)"
   ]
  },
  {
   "cell_type": "code",
   "execution_count": 10,
   "metadata": {},
   "outputs": [
    {
     "data": {
      "text/plain": [
       "(-200.0, 200.0)"
      ]
     },
     "execution_count": 10,
     "metadata": {},
     "output_type": "execute_result"
    },
    {
     "data": {
      "image/png": "[encoded data removed]",
      "text/plain": [
       "<Figure size 432x288 with 1 Axes>"
      ]
     },
     "metadata": {
      "needs_background": "light"
     },
     "output_type": "display_data"
    }
   ],
   "source": [
    "plt.plot(standard_full_time,preds[86])\n",
    "plt.plot(standard_full_time,preds[105])\n",
    "plt.xlim([-200,200])"
   ]
  },
  {
   "cell_type": "code",
   "execution_count": 11,
   "metadata": {},
   "outputs": [
    {
     "data": {
      "text/plain": [
       "[<matplotlib.lines.Line2D at 0x2dbe55587c0>]"
      ]
     },
     "execution_count": 11,
     "metadata": {},
     "output_type": "execute_result"
    },
    {
     "data": {
      "image/png": "[encoded data removed]",
      "text/plain": [
       "<Figure size 432x288 with 1 Axes>"
      ]
     },
     "metadata": {
      "needs_background": "light"
     },
     "output_type": "display_data"
    }
   ],
   "source": [
    "plt.plot(standard_full_time,preds[99])\n",
    "plt.plot(standard_full_time,preds[13])"
   ]
  },
  {
   "cell_type": "code",
   "execution_count": 12,
   "metadata": {},
   "outputs": [
    {
     "data": {
      "text/plain": [
       "105.9938095791034"
      ]
     },
     "execution_count": 12,
     "metadata": {},
     "output_type": "execute_result"
    }
   ],
   "source": [
    "fwhm=[]\n",
    "for i in preds:\n",
    "    meanval,stdval = weighted_avg_and_std(standard_full_time,i)\n",
    "    fwhm.append(stdval*2.35)\n",
    "np.mean(fwhm)"
   ]
  },
  {
   "cell_type": "code",
   "execution_count": 13,
   "metadata": {},
   "outputs": [
    {
     "data": {
      "text/plain": [
       "6.734564184595566"
      ]
     },
     "execution_count": 13,
     "metadata": {},
     "output_type": "execute_result"
    },
    {
     "data": {
      "image/png": "[encoded data removed]",
      "text/plain": [
       "<Figure size 432x288 with 1 Axes>"
      ]
     },
     "metadata": {
      "needs_background": "light"
     },
     "output_type": "display_data"
    }
   ],
   "source": [
    "plt.hist(fwhm,20)\n",
    "np.std(fwhm)"
   ]
  },
  {
   "cell_type": "code",
   "execution_count": 14,
   "metadata": {},
   "outputs": [],
   "source": [
    "kl = tf.keras.losses.KLDivergence(\n",
    "    reduction=tf.keras.losses.Reduction.SUM)\n",
    "kl = tf.keras.losses.MeanSquaredLogarithmicError(\n",
    "    reduction=tf.keras.losses.Reduction.SUM)"
   ]
  },
  {
   "cell_type": "code",
   "execution_count": 15,
   "metadata": {},
   "outputs": [],
   "source": [
    "def next_indexf(current_trace,left_traces,left_indices):\n",
    "    lowest_dist=100\n",
    "    nearest_pos=0\n",
    "    for num, itrace in enumerate(left_traces):\n",
    "        temp_dist = kl(current_trace, itrace).numpy()\n",
    "        if temp_dist<lowest_dist:\n",
    "            lowest_dist=temp_dist\n",
    "            nearest_pos=num\n",
    "    return left_indices[nearest_pos]\n",
    "            \n",
    "        "
   ]
  },
  {
   "cell_type": "code",
   "execution_count": 16,
   "metadata": {},
   "outputs": [],
   "source": [
    "left_traces=preds\n",
    "left_indices=np.arange(len(preds))\n",
    "sorted_indices=[]\n",
    "start_index=13\n",
    "next_index=start_index\n",
    "\n",
    "sorted_indices.append(next_index)\n",
    "\n",
    "left_traces=np.delete(left_traces,next_index,axis=0)\n",
    "left_indices=np.delete(left_indices,np.argwhere(left_indices==next_index))\n",
    "\n",
    "while len(left_traces)>0:\n",
    "#     print(ne)\n",
    "\n",
    "    next_index = next_indexf(preds[start_index],left_traces,left_indices)\n",
    "    sorted_indices.append(next_index)\n",
    "#     print(left_indices)\n",
    "#     print(len(left_traces))\n",
    "    left_traces=np.delete(left_traces,np.argwhere(left_indices==next_index),axis=0)\n",
    "    left_indices=np.delete(left_indices,np.argwhere(left_indices==next_index))\n",
    "    \n",
    "\n",
    "sorted_indices= np.asarray(sorted_indices)"
   ]
  },
  {
   "cell_type": "code",
   "execution_count": 23,
   "metadata": {},
   "outputs": [
    {
     "data": {
      "text/plain": [
       "<matplotlib.image.AxesImage at 0x2dcc6677f10>"
      ]
     },
     "execution_count": 23,
     "metadata": {},
     "output_type": "execute_result"
    },
    {
     "data": {
      "image/png": "[encoded data removed]",
      "text/plain": [
       "<Figure size 432x288 with 1 Axes>"
      ]
     },
     "metadata": {
      "needs_background": "light"
     },
     "output_type": "display_data"
    }
   ],
   "source": [
    "plt.imshow(preds[sorted_indices], extent=[-250,250,1,109],aspect = 5)"
   ]
  },
  {
   "cell_type": "code",
   "execution_count": 33,
   "metadata": {},
   "outputs": [
    {
     "data": {
      "text/plain": [
       "[<matplotlib.lines.Line2D at 0x23e5db5bf10>]"
      ]
     },
     "execution_count": 33,
     "metadata": {},
     "output_type": "execute_result"
    },
    {
     "data": {
      "image/png": "[encoded data removed]",
      "text/plain": [
       "<Figure size 432x288 with 1 Axes>"
      ]
     },
     "metadata": {
      "needs_background": "light"
     },
     "output_type": "display_data"
    }
   ],
   "source": [
    "plt.plot(standard_full_time,preds[sorted_indices[0]])\n",
    "plt.plot(standard_full_time,preds[sorted_indices[106]])"
   ]
  },
  {
   "cell_type": "code",
   "execution_count": 24,
   "metadata": {},
   "outputs": [],
   "source": [
    "def fwhm(trace,time):\n",
    "    half_max=0.5*max(trace)\n",
    "    all_pos=np.where(preds[1]>half_max)\n",
    "    return time[max(all_pos[0])]-time[min(all_pos[0])]"
   ]
  },
  {
   "cell_type": "code",
   "execution_count": 25,
   "metadata": {},
   "outputs": [],
   "source": [
    "fwhm_vals = [fwhm(i,standard_full_time) for i in preds]\n",
    "fwhm_vals = np.asarray(fwhm_vals)\n"
   ]
  },
  {
   "cell_type": "code",
   "execution_count": 36,
   "metadata": {},
   "outputs": [
    {
     "data": {
      "text/plain": [
       "array([[5.6096127e-08, 5.4795986e-08, 8.3345547e-08, ..., 6.3304384e-08,\n",
       "        9.3449479e-08, 8.1092338e-08],\n",
       "       [3.3974715e-08, 2.9314023e-08, 4.0802597e-08, ..., 3.3231398e-08,\n",
       "        4.4868184e-08, 3.7321715e-08],\n",
       "       [8.5425967e-08, 8.4533525e-08, 1.4211378e-07, ..., 9.9211022e-08,\n",
       "        1.4376950e-07, 1.2263199e-07],\n",
       "       ...,\n",
       "       [3.9528210e-08, 3.7523229e-08, 5.5465577e-08, ..., 4.1302055e-08,\n",
       "        5.9274452e-08, 5.2119997e-08],\n",
       "       [8.1877793e-08, 7.6434596e-08, 1.0901626e-07, ..., 8.4851926e-08,\n",
       "        1.2232948e-07, 1.0375831e-07],\n",
       "       [1.3913194e-08, 1.2215863e-08, 1.8895181e-08, ..., 1.5538854e-08,\n",
       "        2.0014660e-08, 1.6255424e-08]], dtype=float32)"
      ]
     },
     "execution_count": 36,
     "metadata": {},
     "output_type": "execute_result"
    }
   ],
   "source": [
    "preds[45<fwhm_vals]"
   ]
  },
  {
   "cell_type": "code",
   "execution_count": 26,
   "metadata": {},
   "outputs": [
    {
     "data": {
      "text/plain": [
       "(array([14., 19., 47., 15.,  0.,  0.,  0.,  6.,  5.,  3.]),\n",
       " array([21.52641879, 26.81017613, 32.09393346, 37.3776908 , 42.66144814,\n",
       "        47.94520548, 53.22896282, 58.51272016, 63.7964775 , 69.08023483,\n",
       "        74.36399217]),\n",
       " <BarContainer object of 10 artists>)"
      ]
     },
     "execution_count": 26,
     "metadata": {},
     "output_type": "execute_result"
    },
    {
     "data": {
      "image/png": "[encoded data removed]",
      "text/plain": [
       "<Figure size 432x288 with 1 Axes>"
      ]
     },
     "metadata": {
      "needs_background": "light"
     },
     "output_type": "display_data"
    }
   ],
   "source": [
    "plt.hist(fwhm_vals)"
   ]
  },
  {
   "cell_type": "code",
   "execution_count": 40,
   "metadata": {},
   "outputs": [
    {
     "data": {
      "application/vnd.jupyter.widget-view+json": {
       "model_id": "c60247cf624044bcbb20038f8ea47a98",
       "version_major": 2,
       "version_minor": 0
      },
      "text/plain": [
       "Canvas(toolbar=Toolbar(toolitems=[('Home', 'Reset original view', 'home', 'home'), ('Back', 'Back to previous …"
      ]
     },
     "metadata": {},
     "output_type": "display_data"
    },
    {
     "data": {
      "text/plain": [
       "[<matplotlib.lines.Line2D at 0x23e5e3ce7c0>]"
      ]
     },
     "execution_count": 40,
     "metadata": {},
     "output_type": "execute_result"
    }
   ],
   "source": [
    "%matplotlib widget\n",
    "plt.plot(standard_full_time,preds[45<fwhm_vals][3])"
   ]
  },
  {
   "cell_type": "code",
   "execution_count": 41,
   "metadata": {},
   "outputs": [
    {
     "data": {
      "text/plain": [
       "array([245, 246, 247, 248, 249, 250, 251, 252, 253, 254, 255, 256, 257,\n",
       "       258, 259, 260, 261, 262, 263, 264, 265, 266, 267], dtype=int64)"
      ]
     },
     "execution_count": 41,
     "metadata": {},
     "output_type": "execute_result"
    }
   ],
   "source": [
    "np.where(preds[1]>0.5*0.026174543)[0]"
   ]
  },
  {
   "cell_type": "code",
   "execution_count": null,
   "metadata": {},
   "outputs": [],
   "source": []
  }
 ],
 "metadata": {
  "kernelspec": {
   "display_name": "Python 3",
   "language": "python",
   "name": "python3"
  },
  "language_info": {
   "codemirror_mode": {
    "name": "ipython",
    "version": 3
   },
   "file_extension": ".py",
   "mimetype": "text/x-python",
   "name": "python",
   "nbconvert_exporter": "python",
   "pygments_lexer": "ipython3",
   "version": "3.8.5-final"
  }
 },
 "nbformat": 4,
 "nbformat_minor": 4
}