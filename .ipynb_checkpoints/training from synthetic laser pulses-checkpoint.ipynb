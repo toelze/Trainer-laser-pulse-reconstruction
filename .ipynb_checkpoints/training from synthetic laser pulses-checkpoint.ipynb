{
 "cells": [
  {
   "cell_type": "code",
   "execution_count": null,
   "metadata": {},
   "outputs": [],
   "source": [
    "import numpy as np\n",
    "from numpy.random import randint,rand\n",
    "\n",
    "import pandas as pd\n",
    "import os\n",
    "import scipy as sp\n",
    "from scipy.interpolate import interp1d\n",
    "import matplotlib.pyplot as plt\n",
    "from numba import vectorize, float64, boolean\n",
    "\n",
    "import tensorflow as tf\n",
    "from tensorflow.keras.utils import Sequence\n",
    "from tensorflow_addons.layers import WeightNormalization\n",
    "from tensorflow.keras.regularizers import l1_l2\n",
    "# gpu_options = tf.GPUOptions(per_process_gpu_memory_fraction=0.9)\n",
    "\n",
    "# sess = tf.Session(config=tf.ConfigProto(gpu_options=gpu_options))\n",
    "\n",
    "\n",
    "\n",
    "\n",
    "import cupy as cp\n",
    "mempool = cp.get_default_memory_pool()\n",
    "# with cp.cuda.Device(0):\n",
    "#     mempool.set_limit(size=800*1024**2)\n",
    "# print(cp.get_default_memory_pool().get_limit())  # 1073741824\n",
    "\n",
    "    \n",
    "# from scipy.signal import find_peaks,peak_widths\n",
    "# from scipy.ndimage import gaussian_filter\n",
    "\n",
    "from streaking_cal.statistics import weighted_avg_and_std  \n",
    "from streaking_cal.misc import interp\n",
    "\n",
    "\n",
    "def ws_reg(kernel):\n",
    "    if kernel.shape[0]> 0:\n",
    "        kernel_mean = tf.math.reduce_mean(kernel, axis=[0, 1, 2], keepdims=True, name='kernel_mean')\n",
    "        kernel = kernel - kernel_mean\n",
    "        kernel_std = tf.math.reduce_std(kernel, axis=[0, 1, 2], keepdims=True, name='kernel_std')\n",
    "        #     kernel_std = tf.keras.backend.std(kernel, axis=[0, 1, 2], keepdims=True)\n",
    "        kernel = kernel / (kernel_std + 1e-5)\n",
    "    else: \n",
    "        kernel = l1_l2(l1=1e-5, l2=1e-4)(kernel)\n",
    "    return kernel\n",
    "import datetime\n",
    "\n",
    "\n",
    "# \n",
    "def weighted_avg_and_std(values, weights):\n",
    "    import math\n",
    "    \"\"\"\n",
    "    Return the weighted average and standard deviation.\n",
    "\n",
    "    values, weights -- Numpy ndarrays with the same shape.\n",
    "    \"\"\"\n",
    "    average = np.average(values, weights=weights)\n",
    "    # Fast and numerically precise:\n",
    "    variance = np.average((values-average)**2, weights=weights)\n",
    "    return (average, math.sqrt(variance))\n",
    "\n",
    "\n",
    "# load noise peak for discretization of spectra\n",
    "dfe=pd.read_csv(\"./FLASH-Spectra/energies.csv\",header=None)\n",
    "orig_tof_ens =dfe[0].values\n",
    "\n",
    "df0=pd.read_csv(\"./FLASH-Spectra/0.0119464/\"+\"spec10.csv\",header=None)\n",
    "noisepeak=(df0[1].values/sum(df0[1]))[orig_tof_ens<61]\n",
    "noisepeak_gpu=cp.asarray(noisepeak)\n",
    "\n",
    "peak_max_y=orig_tof_ens[len(noisepeak)]-orig_tof_ens[0]\n",
    "tof_ens=np.linspace(40,110,701)\n",
    "tof_ens_gpu=cp.asarray(tof_ens)\n",
    "\n",
    "\n",
    "# progressbar for for loops\n",
    "from progressbar import ProgressBar\n",
    "\n",
    "\n",
    "CentralEnergy=73\n",
    "h=4.135667662 #in eV*fs\n",
    "\n",
    "dt = np.dtype([('up', np.float32),('down', np.float32)])\n",
    "\n",
    "# import precomputed components of phi_el\n",
    "# p*A_THz und A_THz^2 have been sampled at 2 zerocrossings ('up' and 'down') of A with p0 of 1 and E0 of 1\n",
    "# to calculate these contributions for arbitrary values, the base values are multiplied by E0 / E0^2 and p0 / 1\n",
    "p_times_A_vals=np.fromfile('./resources/m_paval.dat',dtype =dt)\n",
    "p_times_A_vals_up=1/h*cp.asarray(p_times_A_vals['up'])\n",
    "p_times_A_vals_down=1/h*cp.asarray(p_times_A_vals['down'])\n",
    "del(p_times_A_vals)\n",
    "\n",
    "A_square_vals=np.fromfile('./resources/m_aquadval.dat',dtype =dt)\n",
    "A_square_vals_up=1/h*cp.asarray(A_square_vals['up'])\n",
    "A_square_vals_down=1/h*cp.asarray(A_square_vals['down'])\n",
    "del(A_square_vals)\n",
    "\n",
    "\n",
    "fs_in_au=lambda t: 41.3414*t; # from fs to a.u.\n",
    "eV_in_au= lambda e: 0.271106*np.sqrt(e) # from eV to a.u.\n",
    "p0=eV_in_au(CentralEnergy)\n",
    "\n",
    "# Pulse class returns temporal profile on basis of this time axis\n",
    "standard_full_time=np.loadtxt('./resources/standard_time.txt')\n",
    "standard_full_time= np.linspace(-250,250,500)\n",
    "\n",
    "# background noise for data augmentation is read from actual measured spectra\n",
    "measurednoise_train=np.loadtxt(\"./resources/measurednoise_train.txt\")\n",
    "measurednoise_val=np.loadtxt(\"./resources/measurednoise_val.txt\")\n",
    "\n",
    "print(\"Num GPUs Available: \", len(tf.config.experimental.list_physical_devices('GPU')))\n",
    "print(tf.version.VERSION)"
   ]
  },
  {
   "cell_type": "code",
   "execution_count": 2,
   "metadata": {},
   "outputs": [],
   "source": [
    "class Pulse(object):\n",
    "\n",
    "\n",
    "    fs_in_au=lambda t: 41.3414*t; # from fs to a.u.\n",
    "    eV_in_au= lambda e: 0.271106*np.sqrt(e) # from eV to a.u.\n",
    "    h=4.135667662 #in eV*fs\n",
    "    \n",
    "    class Data_Nonexisting_Error(Exception):\n",
    "        def __init__(self, message):\n",
    "            self.message = message\n",
    "#     \n",
    "    \n",
    "    def __init__(self, EnAxis, EnOutput, TAxis, TOutput, num_electrons1, num_electrons2, dE = 0, dT = 0):\n",
    "        from streaking_cal.statistics import weighted_avg_and_std\n",
    "        \n",
    "        if dE == 0:\n",
    "            dE = weighted_avg_and_std(EnAxis.get(),cp.square(cp.abs(EnOutput)).get())[1]\n",
    "            \n",
    "        if dT == 0:\n",
    "            dT = weighted_avg_and_std(TAxis.get(),cp.square(cp.abs(TOutput)).get())[1]\n",
    "        \n",
    "        \n",
    "        self.dE = dE\n",
    "        self.dT = dT\n",
    "        self.__spec = EnOutput\n",
    "        self.__eAxis = EnAxis\n",
    "        self.__temp = TOutput\n",
    "        self.__tAxis = TAxis\n",
    "        self.num_electrons1=num_electrons1\n",
    "        self.num_electrons2=num_electrons2\n",
    "        self.__is_low_res = False\n",
    "        self.__streakspeed=0\n",
    "        del(EnAxis)\n",
    "        del(EnOutput)\n",
    "        del(TAxis)\n",
    "        del(TOutput)\n",
    "        \n",
    "#     @property for read access only members\n",
    "            \n",
    "    \n",
    "    @classmethod\n",
    "    def from_GS(cls, dE = 0.35, dT = 35, centralE = 73, num_electrons1=25, num_electrons2=25):\n",
    "        from streaking_cal.GetSASE import GetSASE_gpu as GS   \n",
    "#         from streaking_cal.statistics import weighted_avg_and_std    \n",
    "\n",
    "\n",
    "        (EnAxis, EnOutput, TAxis, TOutput)= GS(CentralEnergy=centralE, \n",
    "                             dE_FWHM=2.355*dE*2**0.5, \n",
    "                             dt_FWHM=2.355*dT*2**0.5,\n",
    "                             onlyT=False)    \n",
    "        EnAxis = EnAxis.astype(\"float32\")\n",
    "        TAxis = TAxis.astype(\"float32\")\n",
    "        EnOutput = EnOutput.astype(\"complex64\")\n",
    "        TOutput = TOutput.astype(\"complex64\")\n",
    "\n",
    "        \n",
    "        return cls(EnAxis, EnOutput, TAxis, TOutput, num_electrons1, num_electrons2, dE, dT )\n",
    "    \n",
    "    @classmethod\n",
    "    def from_file(cls, path_temp, num_electrons1 = 25, num_electrons2 = 25):\n",
    "        TOutput=cp.fromfile(path_temp , dtype=\"complex64\")\n",
    "        TAxis = cp.fromfile(\"./GS_Pulses/axis/time_axis.dat\" , dtype=\"float32\")\n",
    "        \n",
    "        EnOutput=cp.fft.ifft(TOutput)\n",
    "        EnAxis=cp.linspace(0,140,32*1024)\n",
    "        \n",
    "        return cls(EnAxis, EnOutput, TAxis, TOutput,num_electrons1, num_electrons2)\n",
    "\n",
    "#     certain entries may be deleted after calculation of measured spectra\n",
    "    def get_temp(self):\n",
    "        return self.__temp\n",
    "    \n",
    "    def get_tAxis(self): \n",
    "        return self.__tAxis\n",
    "    \n",
    "    def get_spec(self):        \n",
    "        if self.__is_low_res:\n",
    "            return None\n",
    "        else:\n",
    "            return self.__spec\n",
    "    \n",
    "    def get_eAxis(self):\n",
    "        if self.__is_low_res:\n",
    "            return None\n",
    "        else:\n",
    "            return self.__eAxis\n",
    "        \n",
    "    def is_low_res(self):\n",
    "        return self.__is_low_res\n",
    "    \n",
    "    def __get_streaked_spectra(self,streakspeed):\n",
    "        if self.is_low_res ==True:\n",
    "            return None\n",
    "        else:\n",
    "            from cupy.fft import fft\n",
    "            \n",
    "            fs_in_au=lambda t: 41.3414*t; # from fs to a.u.\n",
    "            eV_in_au= lambda e: 0.271106*np.sqrt(e) # from eV to a.u.\n",
    "        \n",
    "            E0=232000*streakspeed # in V/m; shape of Vectorpotential determines: 232000 V/m = 1 meV/fs max streakspeed\n",
    "            ff1=cp.flip(fft(self.__temp*cp.exp(-1j*fs_in_au(self.__tAxis)*(1/(2)*(p0*E0*p_times_A_vals_up + \n",
    "                                                                      1*E0**2*A_square_vals_up)))))\n",
    "            ff2=cp.flip(fft(self.__temp*cp.exp(-1j*fs_in_au(self.__tAxis)*(1/(2)*(p0*E0*p_times_A_vals_down + \n",
    "                                                                      1*E0**2*A_square_vals_down)))))\n",
    "\n",
    "            spectrum1=cp.square(cp.abs(ff1))\n",
    "            spectrum2=cp.square(cp.abs(ff2))\n",
    "\n",
    "    #         ff1=ff1/(cp.sum(cp.square(cp.abs(ff1))))\n",
    "    #         ff1=ff2/(cp.sum(cp.square(cp.abs(ff2))))\n",
    "\n",
    "            return spectrum1,spectrum2\n",
    "    \n",
    "    @staticmethod\n",
    "    @vectorize([float64(float64,boolean)])\n",
    "    def get_ind_vals(new_y, start):\n",
    "        if not(start):\n",
    "            new_y+=peak_max_y\n",
    "        idx= np.abs(tof_ens - new_y).argmin()\n",
    "        if start:\n",
    "            if tof_ens[idx]<new_y:\n",
    "                idx+=1\n",
    "            if tof_ens[idx]<new_y:\n",
    "                idx+=1\n",
    "        else:\n",
    "            if tof_ens[idx]>new_y+peak_max_y:\n",
    "                idx-=1\n",
    "            if tof_ens[idx]>new_y+peak_max_y:\n",
    "                idx-=1\n",
    "        return idx\n",
    "    \n",
    "    @staticmethod\n",
    "    def discretized_spectrum(spectrum,num_points):\n",
    "        from numpy import interp\n",
    "        spectrum = cp.asnumpy(spectrum)\n",
    "        vals=Pulse.discrete_positions(spectrum,num_points)\n",
    "        st=Pulse.get_ind_vals(vals,True).astype(\"int\")\n",
    "        en=Pulse.get_ind_vals(vals,False).astype(\"int\")\n",
    "        new_spec=np.zeros(len(tof_ens))\n",
    "        \n",
    "        orig_tof_no_off=orig_tof_ens[:10]-orig_tof_ens[0]\n",
    "        for start,end,valq in zip(st,en,vals):\n",
    "            intvals=tof_ens[start:end]\n",
    "            new_int=np.interp(intvals,orig_tof_no_off+valq,Pulse.single_discrete_spike())\n",
    "            new_spec[start:end]+=new_int\n",
    "        return new_spec\n",
    "\n",
    "    \n",
    "#     def __discretized_spectrum(self,spectrum,num_points):\n",
    "#         ll=len(self.__single_discrete_spike())\n",
    "#         sval=self.__discrete_positions(spectrum,num_points)\n",
    "#         sval_ens=interp(cp.array(sval),cp.arange(len(tof_ens)),tof_ens_gpu)\n",
    "#         new_spec=cp.zeros(len(tof_ens))\n",
    "#         one_spike_int = lambda r : interp(tof_ens_gpu\n",
    "#                                           ,cp.asarray(orig_tof_ens[:ll]-orig_tof_ens[7])+r\n",
    "#                                           ,self.__single_discrete_spike())\n",
    "#         all_spikes=cp.array([one_spike_int(i) for i in sval_ens])\n",
    "#         new_spec= cp.sum(all_spikes,axis=0)\n",
    "\n",
    "#         return new_spec\n",
    "\n",
    "    @staticmethod\n",
    "    def single_discrete_spike():\n",
    "        from numpy.random import rand\n",
    "        from numpy import pad,floor,ceil\n",
    "#         padval=(len(orig_tof_ens)-len(noisepeak))/2\n",
    "        single_spike=0.004*rand(10)+noisepeak\n",
    "    #     single_spike= pad(single_spike, (floor(padval).astype(int), \n",
    "    #                                      ceil(padval).astype(int)), 'constant', constant_values=(0))\n",
    "        return single_spike\n",
    "\n",
    "    @staticmethod\n",
    "    def discrete_positions(spectrum,num_points):\n",
    "        from scipy.interpolate import interp1d\n",
    "        from numpy import interp as npinterp\n",
    "        from numpy.random import rand\n",
    "        from numpy import cumsum\n",
    "        from numpy import round as np_round\n",
    "        spectrum=cp.asnumpy(spectrum)\n",
    "        cumulative_spectrum=(np.cumsum(spectrum))/sum(spectrum)\n",
    "        indices=np.arange(len(spectrum))\n",
    "        discrete_positions=npinterp(rand(num_points),cumulative_spectrum,indices)\n",
    "#         discrete_positions=mint(rand(num_points))\n",
    "        discrete_positions=npinterp(discrete_positions,np.arange(len(tof_ens)),tof_ens)\n",
    "\n",
    "    #     discrete_positions=np_round(discrete_positions)\n",
    "        return discrete_positions\n",
    "    \n",
    "#     two methods (training and validation) from distinct original measurements to introduce \n",
    "#     background noise into the spectra\n",
    "    def __makenoise_train(self,maxv):\n",
    "        '''background noise used for training'''\n",
    "        from numpy.random import randint\n",
    "        from numpy import roll\n",
    "        hnoise=measurednoise_train*cp.asnumpy(maxv)\n",
    "        return roll(hnoise,np.random.randint(1,len(tof_ens)))[:len(tof_ens)]\n",
    "    \n",
    "    def __makenoise_val(self,maxv):\n",
    "        '''background noise used for validation'''\n",
    "        from numpy.random import randint\n",
    "        from numpy import roll\n",
    "        hnoise=measurednoise_val*cp.asnumpy(maxv)\n",
    "        return roll(hnoise,np.random.randint(1,len(tof_ens)))[:len(tof_ens)]\n",
    "    \n",
    "    def get_spectra(self,streakspeed_in_meV_per_fs, keep_originals=False, discretized = True):\n",
    "        '''returns streaked spectra, measured with \"number_electronsx\" simulated electrons or nondiscretized as a tuple'''\n",
    "        from streaking_cal.statistics import weighted_avg_and_std\n",
    "        \n",
    "        if not(self.is_low_res()):\n",
    "            \n",
    "            (streaked1,streaked2)=self.__get_streaked_spectra(streakspeed_in_meV_per_fs)\n",
    "\n",
    "            streaked1=interp(tof_ens_gpu,self.__eAxis,streaked1)\n",
    "            streaked2=interp(tof_ens_gpu,self.__eAxis,streaked2) \n",
    "            xuvonly = interp(tof_ens_gpu,self.__eAxis,cp.square(cp.abs(self.__spec)))\n",
    "            \n",
    "            if not(keep_originals):        \n",
    "                self.__eAxis = None\n",
    "                self.__spec = None\n",
    "                t_square=cp.square(cp.abs(self.__temp))\n",
    "                t_mean,_ = weighted_avg_and_std(self.__tAxis.get(),t_square.get())\n",
    "                self.__temp=interp(cp.asarray(standard_full_time),self.__tAxis-t_mean,t_square).get()    \n",
    "                self.__temp=self.__temp/cp.sum(self.__temp)\n",
    "                self.__tAxis=standard_full_time\n",
    "                self.__is_low_res=True\n",
    "                self.__streakedspectra= np.asarray((xuvonly.get(),streaked1.get(),streaked2.get()))\n",
    "                self.__streakspeed=streakspeed_in_meV_per_fs\n",
    "                self.__tAxis=standard_full_time;            \n",
    "            \n",
    "            if discretized:\n",
    "                streaked1=self.discretized_spectrum(streaked1,self.num_electrons1)\n",
    "                streaked2=self.discretized_spectrum(streaked2,self.num_electrons2)\n",
    "                \n",
    "            self.__streakspeed=streakspeed_in_meV_per_fs\n",
    "            \n",
    "            return cp.asnumpy(xuvonly),cp.asnumpy(streaked1),cp.asnumpy(streaked2)\n",
    "        \n",
    "        elif discretized:\n",
    "            (xuvonly,streaked1,streaked2) =self.__streakedspectra \n",
    "            streaked1=self.discretized_spectrum(streaked1,self.num_electrons1)\n",
    "            streaked2=self.discretized_spectrum(streaked2,self.num_electrons2)\n",
    "            \n",
    "            return cp.asnumpy(xuvonly),cp.asnumpy(streaked1),cp.asnumpy(streaked2)\n",
    "            \n",
    "            \n",
    "        else:    \n",
    "            return self.__streakedspectra\n",
    "         \n",
    "        \n",
    "    def get_augmented_spectra(self,streakspeed_in_meV_per_fs,for_training=False):\n",
    "        '''data augemtation to imitate: shift of XUV-energy, jitter between Streaking and XUV, background signal\n",
    "        values here are handcrafted for the (reduced) chosen resolution of self.__eAxis and might \n",
    "        need be adjusted in the future\n",
    "        ;Returns augemented spectra as a matrix'''\n",
    "        from numpy.random import randint\n",
    "        from numpy import asarray, roll\n",
    "        from sklearn.preprocessing import Normalizer\n",
    "                \n",
    "        aug_spectra = np.asarray(self.get_spectra(streakspeed_in_meV_per_fs))\n",
    "        \n",
    "#         to reduce dependancy from XUV-photon energy\n",
    "        shiftall= randint(-30,30)\n",
    "#         to account for jitter\n",
    "        shiftstr = randint(0,20)\n",
    "        \n",
    "        aug_spectra[0]= roll(aug_spectra[0],shiftall)\n",
    "        aug_spectra[1]= roll(aug_spectra[1],shiftall-shiftstr)          \n",
    "        aug_spectra[2]= roll(aug_spectra[2],shiftall+shiftstr)\n",
    "        \n",
    "#         add background signal from actual measurements\n",
    "        if for_training:\n",
    "            aug_spectra[1]=aug_spectra[1]+self.__makenoise_train(max(aug_spectra[1]))\n",
    "            aug_spectra[2]=aug_spectra[2]+self.__makenoise_train(max(aug_spectra[2]))\n",
    "            \n",
    "        else:\n",
    "            aug_spectra[1]=aug_spectra[1]+self.__makenoise_val(max(aug_spectra[1]))\n",
    "            aug_spectra[2]=aug_spectra[2]+self.__makenoise_val(max(aug_spectra[2])) \n",
    "            \n",
    "            \n",
    "#             normalize to area 1\n",
    "        hnormalizer = Normalizer(norm =\"l1\")\n",
    "        norm1 = hnormalizer.transform(aug_spectra)\n",
    "                                      \n",
    "        return aug_spectra\n",
    "        \n",
    "    def to_file(self, writepath):\n",
    "        if self.is_low_res():\n",
    "            raise self.Data_Nonexisting_Error('High resolution data is already deleted. Use to_file() before calculating streaked spectra or with get_spectra(keep_originals = True) ') \n",
    "        else:\n",
    "            self.get_temp().get().tofile(writepath)\n",
    "        \n",
    "    def get_streakspeed(self):\n",
    "        return self.__streakspeed        \n",
    "    \n",
    "        "
   ]
  },
  {
   "cell_type": "markdown",
   "metadata": {},
   "source": [
    "## Save 10000 pulses for reference and validation"
   ]
  },
  {
   "cell_type": "code",
   "execution_count": 92,
   "metadata": {},
   "outputs": [
    {
     "name": "stderr",
     "output_type": "stream",
     "text": [
      "100% (10000 of 10000) |##################| Elapsed Time: 0:00:57 Time:  0:00:57\n"
     ]
    }
   ],
   "source": [
    "# pbar = ProgressBar()\n",
    "# for i in pbar(range(10000)):\n",
    "#     a = Pulse.from_GS(dE = 0.4, dT = 45, num_electrons1=200, num_electrons2=200)\n",
    "#     a.to_file(\"./Pulses/GetSASE/Pulse_\"+str(i)+\".dat\")"
   ]
  },
  {
   "cell_type": "code",
   "execution_count": 3,
   "metadata": {},
   "outputs": [
    {
     "name": "stderr",
     "output_type": "stream",
     "text": [
      "100% (2000 of 2000) |####################| Elapsed Time: 0:00:08 Time:  0:00:08\n"
     ]
    }
   ],
   "source": [
    "# %%timeit\n",
    "pbar = ProgressBar()\n",
    "\n",
    "num_pulses=2000\n",
    "streakspeed = 95 # meV/fs\n",
    "X= [\"\"]*num_pulses\n",
    "y= [\"\"]*num_pulses\n",
    "\n",
    "for i in pbar(range(num_pulses)):\n",
    "    x1 = Pulse.from_GS(dT = np.random.uniform(10/2.355,120/2.355)\n",
    "                  , dE = np.random.uniform(0.2/2.355,1.8/2.355)\n",
    "                  , num_electrons1=np.random.randint(20,31)\n",
    "                  , num_electrons2=np.random.randint(20,31)\n",
    "                 )\n",
    "    x1.get_spectra(streakspeed,discretized=False)\n",
    "    X[i] = x1\n",
    "    \n",
    "    "
   ]
  },
  {
   "cell_type": "code",
   "execution_count": null,
   "metadata": {},
   "outputs": [],
   "source": []
  },
  {
   "cell_type": "code",
   "execution_count": 4,
   "metadata": {},
   "outputs": [],
   "source": [
    "\n",
    "class Datagenerator(Sequence):\n",
    "    def __init__(self, x_set,y_set, batch_size, for_train =True):\n",
    "        self.x, self.y = x_set, y_set\n",
    "#         self.pulses = pulses\n",
    "        self.batch_size = batch_size\n",
    "#         self.xdims = xdims\n",
    "#         self.ydims = ydims\n",
    "#         self.time=time\n",
    "        self.for_train=for_train\n",
    "\n",
    "    def __len__(self):\n",
    "        return int(np.ceil(len(self.x) / float(self.batch_size)))\n",
    "\n",
    "    def __getitem__(self, idx):\n",
    "        from tensorflow.keras.utils import Sequence\n",
    "        from scipy.ndimage import gaussian_filter\n",
    "        from numpy.random import uniform, randint\n",
    "        import numpy as np \n",
    "        from numpy import zeros\n",
    "        \n",
    "        batch = self.x[idx * self.batch_size:(idx + 1) * self.batch_size]\n",
    "#         batch_y = self.y[idx * self.batch_size:(idx + 1) * self.batch_size]\n",
    "\n",
    "        x = [X[i].get_augmented_spectra(0) for i in batch]\n",
    "        x = np.asarray(x)\n",
    "               \n",
    "        y = [X[i].get_temp() for i in batch]\n",
    "        y = np.asarray(y)\n",
    "        \n",
    "\n",
    "        return x.reshape(-1,3, x[0].shape[1],1), np.array(y) #.reshape(self.batch_size, -1)\n",
    "    \n",
    "    "
   ]
  },
  {
   "cell_type": "code",
   "execution_count": 5,
   "metadata": {},
   "outputs": [],
   "source": [
    "class CenterAround(tf.keras.constraints.Constraint):\n",
    "#   \"\"\"Constrains weight tensors to be centered around `ref_value`.\"\"\"\n",
    "\n",
    "    def __init__(self, ref_value):\n",
    "        self.ref_value = ref_value\n",
    "\n",
    "    def __call__(self, w):\n",
    "        mean = tf.reduce_mean(w)\n",
    "        return w - mean + self.ref_value\n",
    "    def get_config(self):\n",
    "        return {'ref_value': self.ref_value}"
   ]
  },
  {
   "cell_type": "code",
   "execution_count": 6,
   "metadata": {},
   "outputs": [
    {
     "name": "stdout",
     "output_type": "stream",
     "text": [
      "Model: \"mynet\"\n",
      "__________________________________________________________________________________________________\n",
      "Layer (type)                    Output Shape         Param #     Connected to                     \n",
      "==================================================================================================\n",
      "traces (InputLayer)             [(None, 3, 701, 1)]  0                                            \n",
      "__________________________________________________________________________________________________\n",
      "conv2d (Conv2D)                 (None, 3, 701, 128)  115328      traces[0][0]                     \n",
      "__________________________________________________________________________________________________\n",
      "max_pooling2d (MaxPooling2D)    (None, 1, 350, 128)  0           conv2d[0][0]                     \n",
      "__________________________________________________________________________________________________\n",
      "average_pooling2d (AveragePooli (None, 1, 350, 128)  0           conv2d[0][0]                     \n",
      "__________________________________________________________________________________________________\n",
      "subtract (Subtract)             (None, 1, 350, 128)  0           max_pooling2d[0][0]              \n",
      "                                                                 average_pooling2d[0][0]          \n",
      "__________________________________________________________________________________________________\n",
      "global_max_pooling2d (GlobalMax (None, 128)          0           subtract[0][0]                   \n",
      "__________________________________________________________________________________________________\n",
      "p_re_lu (PReLU)                 (None, 128)          128         global_max_pooling2d[0][0]       \n",
      "__________________________________________________________________________________________________\n",
      "batch_normalization (BatchNorma (None, 128)          512         p_re_lu[0][0]                    \n",
      "__________________________________________________________________________________________________\n",
      "dense (Dense)                   (None, 100)          12900       batch_normalization[0][0]        \n",
      "__________________________________________________________________________________________________\n",
      "dense_1 (Dense)                 (None, 500)          50500       dense[0][0]                      \n",
      "==================================================================================================\n",
      "Total params: 179,368\n",
      "Trainable params: 179,112\n",
      "Non-trainable params: 256\n",
      "__________________________________________________________________________________________________\n"
     ]
    }
   ],
   "source": [
    "from tensorflow.keras import Input\n",
    "from tensorflow.keras.layers import Subtract, GlobalMaxPooling2D, Conv2D, Dense\n",
    "from tensorflow.keras.layers import MaxPooling2D, AveragePooling2D, BatchNormalization\n",
    "\n",
    "\n",
    "convdim=128\n",
    "\n",
    "inputs= Input(shape=(3, len(tof_ens),1), name=\"traces\")\n",
    "conv_out = Conv2D(convdim, kernel_size=(3,300), activation=\"linear\", input_shape=(3, len(tof_ens),1)\n",
    "           ,strides=1,padding=\"same\"\n",
    "          )(inputs)\n",
    "\n",
    "\n",
    "x = MaxPooling2D(pool_size=(3, 3),strides=(1,2), padding=\"valid\")(conv_out)\n",
    "x2 = AveragePooling2D(pool_size=(3, 3),strides=(1,2), padding=\"valid\")(conv_out)\n",
    "\n",
    "x = Subtract()([x, x2])\n",
    "\n",
    "x= GlobalMaxPooling2D()(x)\n",
    "\n",
    "x = tf.keras.layers.PReLU()(x)\n",
    "\n",
    "x = BatchNormalization()(x)\n",
    "\n",
    "x= Dense(100,activation=\"relu\"\n",
    "         , kernel_constraint=CenterAround(0)\n",
    "        )(x)\n",
    "\n",
    "outputs = Dense(standard_full_time.shape[0], activation=\"softmax\")(x)\n",
    "\n",
    "model = tf.keras.Model(inputs, outputs, name=\"mynet\")\n",
    "model.summary()"
   ]
  },
  {
   "cell_type": "code",
   "execution_count": 7,
   "metadata": {},
   "outputs": [],
   "source": [
    "from sklearn.model_selection import train_test_split\n",
    "\n",
    "wholeset =np.arange(len(X));\n",
    "\n",
    "pulses_train, pulses_test, y_train, y_test = train_test_split(wholeset,wholeset,test_size =0.05 ,random_state =1)\n",
    "params = {'batch_size': 300}\n",
    "train_ds = Datagenerator(pulses_train,y_train,**params)\n",
    "test_ds = Datagenerator(pulses_test,y_test,for_train =False,**params)\n",
    "\n",
    "# time2=time[abs(time)<250]\n",
    "          \n"
   ]
  },
  {
   "cell_type": "code",
   "execution_count": 8,
   "metadata": {
    "scrolled": true
   },
   "outputs": [
    {
     "name": "stdout",
     "output_type": "stream",
     "text": [
      "Epoch 1/60\n",
      "2/7 [=======>......................] - ETA: 11s - loss: 2.0283 - accuracy: 0.0067 - mae: 0.0031   WARNING:tensorflow:Callbacks method `on_train_batch_end` is slow compared to the batch time (batch time: 1.3962s vs `on_train_batch_end` time: 3.1890s). Check your callbacks.\n",
      "7/7 [==============================] - 15s 2s/step - loss: 1.9981 - accuracy: 0.0158 - mae: 0.0031 - val_loss: 1.8909 - val_accuracy: 0.0000e+00 - val_mae: 0.0030\n",
      "Epoch 2/60\n",
      "7/7 [==============================] - 10s 1s/step - loss: 1.7994 - accuracy: 0.0311 - mae: 0.0030 - val_loss: 1.8271 - val_accuracy: 0.0100 - val_mae: 0.0030\n",
      "Epoch 3/60\n",
      "7/7 [==============================] - 10s 1s/step - loss: 1.3039 - accuracy: 0.0305 - mae: 0.0026 - val_loss: 1.7068 - val_accuracy: 0.0500 - val_mae: 0.0029\n",
      "Epoch 4/60\n",
      "7/7 [==============================] - 14s 2s/step - loss: 0.8016 - accuracy: 0.0384 - mae: 0.0020 - val_loss: 1.5752 - val_accuracy: 0.0400 - val_mae: 0.0028\n",
      "Epoch 5/60\n",
      "7/7 [==============================] - 14s 2s/step - loss: 0.6130 - accuracy: 0.0363 - mae: 0.0017 - val_loss: 1.4543 - val_accuracy: 0.0400 - val_mae: 0.0027\n",
      "Epoch 6/60\n",
      "7/7 [==============================] - 14s 2s/step - loss: 0.5413 - accuracy: 0.0321 - mae: 0.0016 - val_loss: 1.3560 - val_accuracy: 0.0300 - val_mae: 0.0026\n",
      "Epoch 7/60\n",
      "7/7 [==============================] - 28s 4s/step - loss: 0.4947 - accuracy: 0.0368 - mae: 0.0016 - val_loss: 1.2673 - val_accuracy: 0.0300 - val_mae: 0.0026\n",
      "Epoch 8/60\n",
      "7/7 [==============================] - 23s 3s/step - loss: 0.4744 - accuracy: 0.0405 - mae: 0.0015 - val_loss: 1.2087 - val_accuracy: 0.0200 - val_mae: 0.0025\n",
      "Epoch 9/60\n",
      "7/7 [==============================] - 28s 4s/step - loss: 0.4578 - accuracy: 0.0453 - mae: 0.0015 - val_loss: 1.1375 - val_accuracy: 0.0300 - val_mae: 0.0024\n",
      "Epoch 10/60\n",
      "7/7 [==============================] - 27s 4s/step - loss: 0.4498 - accuracy: 0.0379 - mae: 0.0015 - val_loss: 1.0948 - val_accuracy: 0.0400 - val_mae: 0.0024\n",
      "Epoch 11/60\n",
      "7/7 [==============================] - 26s 4s/step - loss: 0.4419 - accuracy: 0.0353 - mae: 0.0015 - val_loss: 1.0525 - val_accuracy: 0.0500 - val_mae: 0.0023\n",
      "Epoch 12/60\n",
      "7/7 [==============================] - 25s 4s/step - loss: 0.4337 - accuracy: 0.0379 - mae: 0.0015 - val_loss: 1.0110 - val_accuracy: 0.0300 - val_mae: 0.0023\n",
      "Epoch 13/60\n",
      "7/7 [==============================] - 28s 4s/step - loss: 0.4307 - accuracy: 0.0358 - mae: 0.0015 - val_loss: 0.9779 - val_accuracy: 0.0100 - val_mae: 0.0022\n",
      "Epoch 14/60\n",
      "7/7 [==============================] - 28s 4s/step - loss: 0.4267 - accuracy: 0.0368 - mae: 0.0015 - val_loss: 0.9480 - val_accuracy: 0.0500 - val_mae: 0.0022\n",
      "Epoch 15/60\n",
      "7/7 [==============================] - 26s 4s/step - loss: 0.4230 - accuracy: 0.0405 - mae: 0.0015 - val_loss: 0.9133 - val_accuracy: 0.0400 - val_mae: 0.0021\n",
      "Epoch 16/60\n",
      "7/7 [==============================] - 28s 4s/step - loss: 0.4217 - accuracy: 0.0474 - mae: 0.0015 - val_loss: 0.8829 - val_accuracy: 0.0400 - val_mae: 0.0021\n",
      "Epoch 17/60\n",
      "7/7 [==============================] - 25s 4s/step - loss: 0.4198 - accuracy: 0.0458 - mae: 0.0015 - val_loss: 0.8653 - val_accuracy: 0.0200 - val_mae: 0.0021\n",
      "Epoch 18/60\n",
      "7/7 [==============================] - 27s 4s/step - loss: 0.4174 - accuracy: 0.0358 - mae: 0.0015 - val_loss: 0.8380 - val_accuracy: 0.0500 - val_mae: 0.0021\n",
      "Epoch 19/60\n",
      "7/7 [==============================] - 27s 4s/step - loss: 0.4149 - accuracy: 0.0458 - mae: 0.0014 - val_loss: 0.8190 - val_accuracy: 0.0300 - val_mae: 0.0020\n",
      "Epoch 20/60\n",
      "7/7 [==============================] - 27s 4s/step - loss: 0.4136 - accuracy: 0.0421 - mae: 0.0014 - val_loss: 0.8067 - val_accuracy: 0.0200 - val_mae: 0.0020\n",
      "Epoch 21/60\n",
      "7/7 [==============================] - 25s 4s/step - loss: 0.4129 - accuracy: 0.0426 - mae: 0.0014 - val_loss: 0.7921 - val_accuracy: 0.0300 - val_mae: 0.0020\n",
      "Epoch 22/60\n",
      "7/7 [==============================] - 19s 3s/step - loss: 0.4123 - accuracy: 0.0426 - mae: 0.0014 - val_loss: 0.7773 - val_accuracy: 0.0500 - val_mae: 0.0020\n",
      "Epoch 23/60\n",
      "7/7 [==============================] - 12s 2s/step - loss: 0.4099 - accuracy: 0.0537 - mae: 0.0014 - val_loss: 0.7546 - val_accuracy: 0.0200 - val_mae: 0.0019\n",
      "Epoch 24/60\n",
      "7/7 [==============================] - 9s 1s/step - loss: 0.4104 - accuracy: 0.0432 - mae: 0.0014 - val_loss: 0.7518 - val_accuracy: 0.0500 - val_mae: 0.0019\n",
      "Epoch 25/60\n",
      "7/7 [==============================] - 27s 4s/step - loss: 0.4092 - accuracy: 0.0337 - mae: 0.0014 - val_loss: 0.7274 - val_accuracy: 0.0100 - val_mae: 0.0019\n",
      "Epoch 26/60\n",
      "7/7 [==============================] - 27s 4s/step - loss: 0.4049 - accuracy: 0.0463 - mae: 0.0014 - val_loss: 0.7268 - val_accuracy: 0.0400 - val_mae: 0.0019\n",
      "Epoch 27/60\n",
      "7/7 [==============================] - 19s 3s/step - loss: 0.4052 - accuracy: 0.0505 - mae: 0.0014 - val_loss: 0.7078 - val_accuracy: 0.0300 - val_mae: 0.0019\n",
      "Epoch 28/60\n",
      "7/7 [==============================] - 25s 4s/step - loss: 0.4064 - accuracy: 0.0426 - mae: 0.0014 - val_loss: 0.7015 - val_accuracy: 0.0400 - val_mae: 0.0019\n",
      "Epoch 29/60\n",
      "7/7 [==============================] - 25s 4s/step - loss: 0.4037 - accuracy: 0.0537 - mae: 0.0014 - val_loss: 0.6856 - val_accuracy: 0.0400 - val_mae: 0.0018\n",
      "Epoch 30/60\n",
      "7/7 [==============================] - 22s 3s/step - loss: 0.4041 - accuracy: 0.0542 - mae: 0.0014 - val_loss: 0.6711 - val_accuracy: 0.0200 - val_mae: 0.0018\n",
      "Epoch 31/60\n",
      "7/7 [==============================] - 22s 3s/step - loss: 0.4029 - accuracy: 0.0405 - mae: 0.0014 - val_loss: 0.6616 - val_accuracy: 0.0600 - val_mae: 0.0018\n",
      "Epoch 32/60\n",
      "7/7 [==============================] - 28s 4s/step - loss: 0.4041 - accuracy: 0.0426 - mae: 0.0014 - val_loss: 0.6587 - val_accuracy: 0.0300 - val_mae: 0.0018\n",
      "Epoch 33/60\n",
      "7/7 [==============================] - 25s 4s/step - loss: 0.4023 - accuracy: 0.0521 - mae: 0.0014 - val_loss: 0.6585 - val_accuracy: 0.0500 - val_mae: 0.0018\n",
      "Epoch 34/60\n",
      "7/7 [==============================] - 23s 3s/step - loss: 0.3999 - accuracy: 0.0463 - mae: 0.0014 - val_loss: 0.6460 - val_accuracy: 0.0300 - val_mae: 0.0018\n",
      "Epoch 35/60\n",
      "7/7 [==============================] - 20s 3s/step - loss: 0.3993 - accuracy: 0.0458 - mae: 0.0014 - val_loss: 0.6332 - val_accuracy: 0.0500 - val_mae: 0.0018\n",
      "Epoch 36/60\n",
      "7/7 [==============================] - 23s 3s/step - loss: 0.3993 - accuracy: 0.0521 - mae: 0.0014 - val_loss: 0.6226 - val_accuracy: 0.0400 - val_mae: 0.0018\n",
      "Epoch 37/60\n",
      "7/7 [==============================] - 19s 3s/step - loss: 0.3975 - accuracy: 0.0521 - mae: 0.0014 - val_loss: 0.6162 - val_accuracy: 0.0600 - val_mae: 0.0018\n",
      "Epoch 38/60\n",
      "7/7 [==============================] - 27s 4s/step - loss: 0.3984 - accuracy: 0.0521 - mae: 0.0014 - val_loss: 0.6091 - val_accuracy: 0.0400 - val_mae: 0.0017\n",
      "Epoch 39/60\n",
      "7/7 [==============================] - 28s 4s/step - loss: 0.3979 - accuracy: 0.0574 - mae: 0.0014 - val_loss: 0.5913 - val_accuracy: 0.0200 - val_mae: 0.0017\n",
      "Epoch 40/60\n",
      "7/7 [==============================] - 16s 2s/step - loss: 0.3964 - accuracy: 0.0505 - mae: 0.0014 - val_loss: 0.5929 - val_accuracy: 0.0400 - val_mae: 0.0017\n",
      "Epoch 41/60\n",
      "7/7 [==============================] - 16s 2s/step - loss: 0.3966 - accuracy: 0.0558 - mae: 0.0014 - val_loss: 0.5914 - val_accuracy: 0.0500 - val_mae: 0.0017\n",
      "Epoch 42/60\n",
      "7/7 [==============================] - 17s 2s/step - loss: 0.3961 - accuracy: 0.0526 - mae: 0.0014 - val_loss: 0.5812 - val_accuracy: 0.0400 - val_mae: 0.0017\n",
      "Epoch 43/60\n",
      "7/7 [==============================] - 27s 4s/step - loss: 0.3953 - accuracy: 0.0532 - mae: 0.0014 - val_loss: 0.5731 - val_accuracy: 0.0200 - val_mae: 0.0017\n",
      "Epoch 44/60\n",
      "7/7 [==============================] - 28s 4s/step - loss: 0.3953 - accuracy: 0.0558 - mae: 0.0014 - val_loss: 0.5623 - val_accuracy: 0.0400 - val_mae: 0.0017\n",
      "Epoch 45/60\n",
      "7/7 [==============================] - 25s 4s/step - loss: 0.3946 - accuracy: 0.0584 - mae: 0.0014 - val_loss: 0.5601 - val_accuracy: 0.0500 - val_mae: 0.0017\n",
      "Epoch 46/60\n",
      "7/7 [==============================] - 28s 4s/step - loss: 0.3934 - accuracy: 0.0500 - mae: 0.0014 - val_loss: 0.5569 - val_accuracy: 0.0300 - val_mae: 0.0017\n",
      "Epoch 47/60\n",
      "7/7 [==============================] - 29s 4s/step - loss: 0.3927 - accuracy: 0.0542 - mae: 0.0014 - val_loss: 0.5477 - val_accuracy: 0.0400 - val_mae: 0.0017\n",
      "Epoch 48/60\n",
      "7/7 [==============================] - 28s 4s/step - loss: 0.3933 - accuracy: 0.0547 - mae: 0.0014 - val_loss: 0.5433 - val_accuracy: 0.0500 - val_mae: 0.0017\n",
      "Epoch 49/60\n",
      "7/7 [==============================] - 23s 3s/step - loss: 0.3923 - accuracy: 0.0600 - mae: 0.0014 - val_loss: 0.5398 - val_accuracy: 0.0300 - val_mae: 0.0016\n",
      "Epoch 50/60\n",
      "7/7 [==============================] - 17s 2s/step - loss: 0.3919 - accuracy: 0.0553 - mae: 0.0014 - val_loss: 0.5291 - val_accuracy: 0.0200 - val_mae: 0.0016\n",
      "Epoch 51/60\n",
      "7/7 [==============================] - 20s 3s/step - loss: 0.3909 - accuracy: 0.0605 - mae: 0.0014 - val_loss: 0.5196 - val_accuracy: 0.0100 - val_mae: 0.0016\n",
      "Epoch 52/60\n",
      "7/7 [==============================] - 10s 1s/step - loss: 0.3911 - accuracy: 0.0568 - mae: 0.0014 - val_loss: 0.5165 - val_accuracy: 0.0200 - val_mae: 0.0016\n",
      "Epoch 53/60\n",
      "7/7 [==============================] - 9s 1s/step - loss: 0.3902 - accuracy: 0.0532 - mae: 0.0014 - val_loss: 0.5129 - val_accuracy: 0.0300 - val_mae: 0.0016\n",
      "Epoch 54/60\n",
      "7/7 [==============================] - 9s 1s/step - loss: 0.3903 - accuracy: 0.0542 - mae: 0.0014 - val_loss: 0.5131 - val_accuracy: 0.0700 - val_mae: 0.0016\n",
      "Epoch 55/60\n",
      "7/7 [==============================] - 15s 2s/step - loss: 0.3907 - accuracy: 0.0621 - mae: 0.0014 - val_loss: 0.5009 - val_accuracy: 0.0300 - val_mae: 0.0016\n",
      "Epoch 56/60\n",
      "7/7 [==============================] - 26s 4s/step - loss: 0.3901 - accuracy: 0.0574 - mae: 0.0014 - val_loss: 0.5030 - val_accuracy: 0.0200 - val_mae: 0.0016\n",
      "Epoch 57/60\n",
      "7/7 [==============================] - 26s 4s/step - loss: 0.3899 - accuracy: 0.0505 - mae: 0.0014 - val_loss: 0.5003 - val_accuracy: 0.0300 - val_mae: 0.0016\n",
      "Epoch 58/60\n",
      "7/7 [==============================] - 31s 4s/step - loss: 0.3890 - accuracy: 0.0489 - mae: 0.0014 - val_loss: 0.4900 - val_accuracy: 0.0400 - val_mae: 0.0016\n",
      "Epoch 59/60\n",
      "7/7 [==============================] - 27s 4s/step - loss: 0.3892 - accuracy: 0.0542 - mae: 0.0014 - val_loss: 0.4909 - val_accuracy: 0.0300 - val_mae: 0.0016\n",
      "Epoch 60/60\n",
      "7/7 [==============================] - 16s 2s/step - loss: 0.3886 - accuracy: 0.0626 - mae: 0.0014 - val_loss: 0.4806 - val_accuracy: 0.0200 - val_mae: 0.0016\n"
     ]
    }
   ],
   "source": [
    "lr_schedule = tf.keras.optimizers.schedules.ExponentialDecay( initial_learning_rate= 0.2, decay_steps=30000, decay_rate= 0.99\n",
    "                                              ,staircase= True)\n",
    "nadam =   tf.keras.optimizers.Nadam(learning_rate=0.01)\n",
    "adagrad =    tf.keras.optimizers.Adagrad(learning_rate=lr_schedule, initial_accumulator_value=0.1)\n",
    "model.compile(optimizer=\"nadam\",loss=\"KLDivergence\", metrics=[\"accuracy\",\"mae\"])\n",
    "\n",
    "history= model.fit(x=train_ds,validation_data=test_ds,\n",
    "#                     use_multiprocessing=True,\n",
    "#                     workers=4,\n",
    "                    epochs=60\n",
    "                   )"
   ]
  },
  {
   "cell_type": "code",
   "execution_count": 2,
   "metadata": {},
   "outputs": [],
   "source": [
    "# 20-31:\n",
    "# val== 0.368\n",
    "# 200\n",
    "# val== 0.33"
   ]
  },
  {
   "cell_type": "code",
   "execution_count": 5,
   "metadata": {
    "scrolled": true
   },
   "outputs": [
    {
     "name": "stdout",
     "output_type": "stream",
     "text": [
      "530432\n"
     ]
    }
   ],
   "source": [
    "mempool.free_all_blocks()\n",
    "print(mempool.used_bytes())"
   ]
  },
  {
   "cell_type": "code",
   "execution_count": null,
   "metadata": {},
   "outputs": [],
   "source": [
    "model.optimizer"
   ]
  },
  {
   "cell_type": "code",
   "execution_count": 34,
   "metadata": {},
   "outputs": [],
   "source": [
    "lr_schedule = tf.keras.optimizers.schedules.ExponentialDecay( initial_learning_rate= 0.05, decay_steps=1500, decay_rate= 0.99\n",
    "                                              ,staircase= True)\n",
    "nadam =   tf.keras.optimizers.Nadam(learning_rate=0.01)\n",
    "adagrad =    tf.keras.optimizers.Adagrad(learning_rate=lr_schedule, initial_accumulator_value=0.1)\n",
    "model.compile(optimizer=nadam,loss=\"KLDivergence\", metrics=[\"accuracy\",\"mae\"])"
   ]
  },
  {
   "cell_type": "code",
   "execution_count": 160,
   "metadata": {
    "scrolled": true
   },
   "outputs": [
    {
     "name": "stdout",
     "output_type": "stream",
     "text": [
      "INFO:tensorflow:Assets written to: ./GS-95_20-31els\\assets\n"
     ]
    }
   ],
   "source": [
    "# model.save('./GS-95_20-31els')\n"
   ]
  },
  {
   "cell_type": "code",
   "execution_count": 20,
   "metadata": {},
   "outputs": [],
   "source": [
    "model = tf.keras.models.load_model('./GS-95_20-31els')"
   ]
  },
  {
   "cell_type": "code",
   "execution_count": 31,
   "metadata": {},
   "outputs": [],
   "source": [
    "tf.keras.optimizers.Nadam?"
   ]
  },
  {
   "cell_type": "code",
   "execution_count": 196,
   "metadata": {},
   "outputs": [
    {
     "data": {
      "text/plain": [
       "(22567,)"
      ]
     },
     "execution_count": 196,
     "metadata": {},
     "output_type": "execute_result"
    }
   ],
   "source": [
    "X_train.shape"
   ]
  },
  {
   "cell_type": "code",
   "execution_count": null,
   "metadata": {},
   "outputs": [],
   "source": [
    "# model.fit(\n",
    "#     X_train.reshape(X_train.shape[0], 3, xdims,1),\n",
    "#     y_train,\n",
    "#     epochs=300,\n",
    "#     batch_size=10)"
   ]
  },
  {
   "cell_type": "code",
   "execution_count": 406,
   "metadata": {},
   "outputs": [],
   "source": [
    "# model.evaluate(X_test.reshape(-1, 3, xdims, 1), y_test)\n"
   ]
  },
  {
   "cell_type": "code",
   "execution_count": 26,
   "metadata": {},
   "outputs": [],
   "source": [
    "# preds=model.predict(np.asarray(X_test).reshape(-1, 3, xdims, 1))"
   ]
  },
  {
   "cell_type": "code",
   "execution_count": 35,
   "metadata": {},
   "outputs": [
    {
     "data": {
      "text/plain": [
       "[<matplotlib.lines.Line2D at 0x20c66478700>]"
      ]
     },
     "execution_count": 35,
     "metadata": {},
     "output_type": "execute_result"
    },
    {
     "data": {
      "image/png": "[encoded data removed]",
      "text/plain": [
       "<Figure size 432x288 with 1 Axes>"
      ]
     },
     "metadata": {
      "needs_background": "light"
     },
     "output_type": "display_data"
    },
    {
     "data": {
      "image/png": "[encoded data removed]",
      "text/plain": [
       "<Figure size 432x288 with 1 Axes>"
      ]
     },
     "metadata": {
      "needs_background": "light"
     },
     "output_type": "display_data"
    },
    {
     "data": {
      "image/png": "[encoded data removed]",
      "text/plain": [
       "<Figure size 432x288 with 1 Axes>"
      ]
     },
     "metadata": {
      "needs_background": "light"
     },
     "output_type": "display_data"
    }
   ],
   "source": [
    "testitems= test_ds.__getitem__(15)\n",
    "preds=model.predict(testitems[0])\n",
    "y_test=testitems[1]\n",
    "%matplotlib inline\n",
    "vv=96\n",
    "\n",
    "plt.plot(standard_full_time,y_test[vv])\n",
    "plt.plot(standard_full_time,preds[vv],'--')\n",
    "# plt.plot(time,gaussian_filter(y_test[vv],10))\n",
    "\n",
    "plt.figure()\n",
    "plt.plot(standard_full_time,preds[vv],'orange')\n",
    "\n",
    "plt.figure()\n",
    "# plt.plot(tof_ens,testitems[0][vv][0])\n",
    "plt.plot(tof_ens,testitems[0][vv][1])\n",
    "plt.plot(tof_ens,testitems[0][vv][2])"
   ]
  },
  {
   "cell_type": "code",
   "execution_count": 26,
   "metadata": {},
   "outputs": [],
   "source": [
    "# # copy fnumbers\n",
    "# fnumso = [i.partition(\".\")[0] for i in files2]\n",
    "# %store fnumso"
   ]
  },
  {
   "cell_type": "code",
   "execution_count": null,
   "metadata": {},
   "outputs": [],
   "source": []
  },
  {
   "cell_type": "code",
   "execution_count": 1105,
   "metadata": {},
   "outputs": [],
   "source": [
    "df0.values.T.shape\n",
    "expspecs=[]\n",
    "mn=100\n",
    "for i in range(mn):\n",
    "#     df0=pd.read_csv(\"./FLASH-Spectra/-0.0391097/\"+filesFlash[i],header=None)\n",
    "    df0=pd.read_csv(\"./FLASH-Spectra/0.0398015/\"+filesFlash[i],header=None)\n",
    "    norm=normalizer.transform(df0.values.T)\n",
    "#     z1=norm[1]\n",
    "#     norm[1]=norm[2]\n",
    "#     norm[2]=z1\n",
    "#     norm[1],norm[2]=(norm[2],norm[1])\n",
    "    expspecs.append(norm)"
   ]
  },
  {
   "cell_type": "code",
   "execution_count": 1132,
   "metadata": {},
   "outputs": [
    {
     "name": "stdout",
     "output_type": "stream",
     "text": [
      "rms-pulselength : 24.421011174173152 fs\n",
      "2.35*rms-pulselength: 57.38937625930691 fs\n",
      "FWHM-pulselength: 39.50075686973514 fs\n"
     ]
    },
    {
     "data": {
      "image/png": "[encoded data removed]",
      "text/plain": [
       "<Figure size 432x288 with 1 Axes>"
      ]
     },
     "metadata": {
      "needs_background": "light"
     },
     "output_type": "display_data"
    }
   ],
   "source": [
    "predsexp=model.predict(np.asarray(expspecs).reshape(mn,3,301,1))\n",
    "predsexp=[i**2 for i in predsexp]\n",
    "vv=35\n",
    "\n",
    "timemean,timestd=weighted_avg_and_std(time,predsexp[vv]);\n",
    "halfheight=1/2*max(predsexp[vv])\n",
    "higherhalfind=time[predsexp[vv]>halfheight]\n",
    "fwhm=abs(higherhalfind[0]-higherhalfind[-1])\n",
    "\n",
    "\n",
    "plt.figure()\n",
    "plt.plot(time,predsexp[vv],'orange')\n",
    "print(\"rms-pulselength : \"+str(timestd)+\" fs\")\n",
    "print(\"2.35*rms-pulselength: \"+str(2.35*timestd)+\" fs\")\n",
    "print(\"FWHM-pulselength: \"+str(fwhm)+\" fs\")"
   ]
  },
  {
   "cell_type": "code",
   "execution_count": 1124,
   "metadata": {},
   "outputs": [
    {
     "data": {
      "text/plain": [
       "[<matplotlib.lines.Line2D at 0x1a43913a8e0>]"
      ]
     },
     "execution_count": 1124,
     "metadata": {},
     "output_type": "execute_result"
    },
    {
     "data": {
      "image/png": "[encoded data removed]",
      "text/plain": [
       "<Figure size 432x288 with 1 Axes>"
      ]
     },
     "metadata": {
      "needs_background": "light"
     },
     "output_type": "display_data"
    }
   ],
   "source": [
    "plt.plot(expspecs[vv][0])\n",
    "plt.plot(expspecs[vv][1])\n",
    "plt.plot(expspecs[vv][2])"
   ]
  },
  {
   "cell_type": "markdown",
   "metadata": {},
   "source": [
    "Es sieht so aus, als ob es oft einen zweiten kleinen Buckel hinten dran gibt\n",
    "der sorgt dafür dass die Pulse sehr viel länger wirken, als sie hauptsächlich sind"
   ]
  },
  {
   "cell_type": "code",
   "execution_count": 1112,
   "metadata": {},
   "outputs": [],
   "source": [
    "expwidths=[]\n",
    "for i in np.arange(len(expspecs)):\n",
    "    timemean,timestd=weighted_avg_and_std(time,predsexp[i]);\n",
    "    \n",
    "    halfheight=1/2*max(predsexp[i])\n",
    "    higherhalfind=time[predsexp[i]>halfheight]\n",
    "    fwhm=abs(higherhalfind[0]-higherhalfind[-1])\n",
    "    \n",
    "    expwidths.append([timestd,fwhm])\n",
    "expwidths=np.asarray(expwidths)"
   ]
  },
  {
   "cell_type": "code",
   "execution_count": 1113,
   "metadata": {},
   "outputs": [
    {
     "data": {
      "text/plain": [
       "(array([ 5., 17., 23., 15., 22.,  5.,  8.,  2.,  2.,  1.]),\n",
       " array([49.64391671, 51.70579162, 53.76766654, 55.82954145, 57.89141637,\n",
       "        59.95329128, 62.0151662 , 64.07704111, 66.13891603, 68.20079094,\n",
       "        70.26266586]),\n",
       " <BarContainer object of 10 artists>)"
      ]
     },
     "execution_count": 1113,
     "metadata": {},
     "output_type": "execute_result"
    },
    {
     "data": {
      "image/png": "[encoded data removed]",
      "text/plain": [
       "<Figure size 432x288 with 1 Axes>"
      ]
     },
     "metadata": {
      "needs_background": "light"
     },
     "output_type": "display_data"
    }
   ],
   "source": [
    "plt.hist(2.35*expwidths[:,0])"
   ]
  },
  {
   "cell_type": "code",
   "execution_count": 1114,
   "metadata": {},
   "outputs": [
    {
     "data": {
      "text/plain": [
       "(array([ 5.,  1.,  0., 54.,  8.,  4., 18.,  1.,  6.,  3.]),\n",
       " array([ 3.72258442,  8.89284055, 14.06309669, 19.23335282, 24.40360896,\n",
       "        29.57386509, 34.74412123, 39.91437736, 45.0846335 , 50.25488963,\n",
       "        55.42514576]),\n",
       " <BarContainer object of 10 artists>)"
      ]
     },
     "execution_count": 1114,
     "metadata": {},
     "output_type": "execute_result"
    },
    {
     "data": {
      "image/png": "[encoded data removed]",
      "text/plain": [
       "<Figure size 432x288 with 1 Axes>"
      ]
     },
     "metadata": {
      "needs_background": "light"
     },
     "output_type": "display_data"
    }
   ],
   "source": [
    "plt.hist(expwidths[:,1])"
   ]
  },
  {
   "cell_type": "code",
   "execution_count": 1119,
   "metadata": {},
   "outputs": [
    {
     "data": {
      "text/plain": [
       "[<matplotlib.lines.Line2D at 0x1a40ccc0370>]"
      ]
     },
     "execution_count": 1119,
     "metadata": {},
     "output_type": "execute_result"
    },
    {
     "data": {
      "image/png": "[encoded data removed]",
      "text/plain": [
       "<Figure size 432x288 with 1 Axes>"
      ]
     },
     "metadata": {
      "needs_background": "light"
     },
     "output_type": "display_data"
    }
   ],
   "source": [
    "plt.plot(2.35*expwidths[:,0])\n",
    "plt.plot(expwidths[:,1])"
   ]
  },
  {
   "cell_type": "code",
   "execution_count": 1130,
   "metadata": {},
   "outputs": [
    {
     "data": {
      "text/plain": [
       "[<matplotlib.lines.Line2D at 0x1a442791640>]"
      ]
     },
     "execution_count": 1130,
     "metadata": {},
     "output_type": "execute_result"
    },
    {
     "data": {
      "image/png": "[encoded data removed]",
      "text/plain": [
       "<Figure size 432x288 with 1 Axes>"
      ]
     },
     "metadata": {
      "needs_background": "light"
     },
     "output_type": "display_data"
    }
   ],
   "source": [
    "plt.plot(2.35*expwidths[:,0]/expwidths[:,1])"
   ]
  },
  {
   "cell_type": "code",
   "execution_count": 1133,
   "metadata": {},
   "outputs": [
    {
     "data": {
      "text/plain": [
       "56.54192386680778"
      ]
     },
     "execution_count": 1133,
     "metadata": {},
     "output_type": "execute_result"
    }
   ],
   "source": [
    "2.35*np.median(np.asarray(expwidths)[:,0])"
   ]
  },
  {
   "cell_type": "code",
   "execution_count": 819,
   "metadata": {},
   "outputs": [
    {
     "name": "stdout",
     "output_type": "stream",
     "text": [
      "INFO:tensorflow:Assets written to: ./kleiner ds/model_40_plusXUV_26els\\assets\n"
     ]
    }
   ],
   "source": [
    "# model.save('./kleiner ds/model_40_plusXUV_26els')\n"
   ]
  },
  {
   "cell_type": "code",
   "execution_count": 388,
   "metadata": {},
   "outputs": [],
   "source": [
    "model = tf.keras.models.load_model('./kleiner ds/model_40_plusXUV_26els_strides1')"
   ]
  },
  {
   "cell_type": "code",
   "execution_count": 4,
   "metadata": {},
   "outputs": [],
   "source": []
  },
  {
   "cell_type": "code",
   "execution_count": 258,
   "metadata": {},
   "outputs": [
    {
     "data": {
      "text/plain": [
       "(2950, 3, 301)"
      ]
     },
     "execution_count": 258,
     "metadata": {},
     "output_type": "execute_result"
    }
   ],
   "source": [
    "allspectra.shape"
   ]
  },
  {
   "cell_type": "code",
   "execution_count": 261,
   "metadata": {},
   "outputs": [
    {
     "name": "stdout",
     "output_type": "stream",
     "text": [
      "Stored 'allspectrao' (ndarray)\n"
     ]
    }
   ],
   "source": [
    "allspectrao=allspectra\n",
    "%store allspectrao"
   ]
  },
  {
   "cell_type": "code",
   "execution_count": null,
   "metadata": {},
   "outputs": [],
   "source": []
  }
 ],
 "metadata": {
  "kernelspec": {
   "display_name": "Python 3",
   "language": "python",
   "name": "python3"
  },
  "language_info": {
   "codemirror_mode": {
    "name": "ipython",
    "version": 3
   },
   "file_extension": ".py",
   "mimetype": "text/x-python",
   "name": "python",
   "nbconvert_exporter": "python",
   "pygments_lexer": "ipython3",
   "version": "3.8.5"
  }
 },
 "nbformat": 4,
 "nbformat_minor": 4
}
